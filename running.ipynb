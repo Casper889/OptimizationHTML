{
 "cells": [
  {
   "cell_type": "code",
   "execution_count": null,
   "metadata": {},
   "outputs": [],
   "source": [
    "import numpy as np\n",
    "import plotly.graph_objects as go\n",
    "from scipy.optimize import minimize\n",
    "\n",
    "# Input Data\n",
    "sectors = ['Energy', 'Industrials', 'Information Technology', 'Utilities', 'Health Care', 'Financials']\n",
    "benchmark_weights = np.array([0.034575, 0.087423, 0.311420, 0.024957, 0.107466, 0.157911])\n",
    "underweight_matrix = np.array([\n",
    "    [0.089618, 0.025347, 0.011072, 0.015178, 0.008784, 0.028007],\n",
    "    [0.025347, 0.030405, 0.029316, 0.017300, 0.015910, 0.029440],\n",
    "    [0.011072, 0.029316, 0.051999, 0.015003, 0.019991, 0.029051],\n",
    "    [0.015178, 0.017300, 0.015003, 0.033967, 0.016893, 0.018864],\n",
    "    [0.008784, 0.015910, 0.019991, 0.016893, 0.022112, 0.018360],\n",
    "    [0.028007, 0.029440, 0.029051, 0.018864, 0.018360, 0.036468]\n",
    "])\n",
    "active_share_target = 0.5\n",
    "initial_guess = np.full(len(benchmark_weights), 0.5 / len(benchmark_weights))\n",
    "\n",
    "# Active Risk Calculation\n",
    "def calculate_active_risk(weights, covariance_matrix):\n",
    "    portfolio_variance = np.dot(weights.T, np.dot(covariance_matrix, weights))\n",
    "    return np.sqrt(portfolio_variance)\n",
    "\n",
    "# Marginal Risk Contribution (Gradients)\n",
    "def marginal_risk_contribution(weights, covariance_matrix):\n",
    "    return np.dot(covariance_matrix, weights)\n",
    "\n",
    "# Objective Function: Minimize Variance Contribution Std\n",
    "def objective(weights):\n",
    "    active_risk = calculate_active_risk(weights, underweight_matrix)\n",
    "    marginal_risk = marginal_risk_contribution(weights, underweight_matrix) / active_risk\n",
    "    variance_contribution = (marginal_risk * weights) / active_risk\n",
    "    return np.sum((variance_contribution[variance_contribution != 0] - (1/np.count_nonzero(weights))) ** 2)\n",
    "\n",
    "# Track Iterations, Gradients, Active Weights, Variance Contributions\n",
    "iterations, absolute_weights, gradients, active_weights, variance_contributions, std_values, active_share_values = [], [], [], [], [], [], []\n",
    "iterations.append(initial_guess)\n",
    "absolute_weights.append(benchmark_weights - initial_guess)\n",
    "active_risk = calculate_active_risk(initial_guess, underweight_matrix)\n",
    "marginal_risk = marginal_risk_contribution(initial_guess, underweight_matrix) / active_risk\n",
    "active_weights.append(initial_guess)\n",
    "variance_contributions.append((marginal_risk * initial_guess) / active_risk)\n",
    "vc = (marginal_risk * initial_guess) / active_risk\n",
    "std_values.append(np.sum((vc[vc != 0] - (1/np.count_nonzero(initial_guess))) ** 2))\n",
    "active_share_values.append(np.sum(initial_guess))\n",
    "def callback(weights):\n",
    "    iterations.append(weights.copy())\n",
    "    absolute_weights.append(benchmark_weights - weights)\n",
    "    gradients.append(marginal_risk_contribution(weights, underweight_matrix))\n",
    "    active_weights.append(weights)\n",
    "    active_risk = calculate_active_risk(weights, underweight_matrix)\n",
    "    marginal_risk = marginal_risk_contribution(weights, underweight_matrix) / active_risk\n",
    "    variance_contributions.append((marginal_risk * weights) / active_risk)\n",
    "    vc = (marginal_risk * weights) / active_risk\n",
    "    std_values.append(np.sum((vc[vc != 0] - (1/np.count_nonzero(weights))) ** 2))\n",
    "    active_share_values.append(np.sum(weights))  \n",
    "\n",
    "\n",
    "# Constraints\n",
    "constraints = [{'type': 'eq', 'fun': lambda x: np.sum(x)  - active_share_target}]\n",
    "bounds = [(0, _) for _ in benchmark_weights]\n",
    "\n",
    "# Optimization\n",
    "minimize(objective, initial_guess, method='SLSQP', bounds=bounds, constraints=constraints, callback=callback,tol=1e-6)\n",
    "\n",
    "max_y_values = [max(np.max(active_weights[i] * 100), np.max(variance_contributions[i] * 100)) for i in range(len(iterations))]\n",
    "\n",
    "# Prepare Data for Plotly\n",
    "iterations, active_weights, variance_contributions = map(np.array, [iterations, active_weights, variance_contributions])\n",
    "frames = [\n",
    "    go.Frame(\n",
    "        data=[\n",
    "            go.Bar(name=\"Active Weight (%)\", x=sectors, y=active_weights[i] * 100, text=active_weights[i] * 100, \n",
    "                   texttemplate='%{text:.2f}%', textposition='outside', marker_color=\"orange\"),\n",
    "            go.Bar(name=\"Absolute Weight (%)\", x=sectors, y=absolute_weights[i] * 100, text=absolute_weights[i] * 100, \n",
    "                   texttemplate='%{text:.2f}%', textposition='outside', marker_color=\"green\"),\n",
    "            go.Bar(name=\"Ex Ante Risk Contribution (%)\", x=sectors, y=variance_contributions[i] * 100, \n",
    "                   text=variance_contributions[i] * 100, texttemplate='%{text:.2f}%', textposition='outside',\n",
    "                   marker_color=\"blue\")\n",
    "        ],\n",
    "        name=f\"Iteration {i+1}\",\n",
    "        layout=go.Layout(\n",
    "            annotations=[\n",
    "                dict(\n",
    "                    text=f\"Sum of Squared Differences: {std_values[i]:.4f} | Active Share: {active_share_values[i]:.4f}\",\n",
    "                    x=0.5,\n",
    "                    y=-0.2,\n",
    "                    xref=\"paper\", yref=\"paper\",\n",
    "                    showarrow=False,\n",
    "                    font=dict(size=14)\n",
    "                )\n",
    "            ]\n",
    "        )\n",
    "    ) for i in range(len(iterations))\n",
    "]\n",
    "\n",
    "# Plotly Figure\n",
    "fig = go.Figure(\n",
    "    data=[\n",
    "        go.Bar(name=\"Active Weight (%)\", x=sectors, y=active_weights[0] * 100, text=active_weights[0] * 100, \n",
    "               texttemplate='%{text:.2f}%', textposition='outside', marker_color=\"orange\"),\n",
    "        go.Bar(name=\"Absolute Weight (%)\", x=sectors, y=absolute_weights[0] * 100, text=absolute_weights[0] * 100, \n",
    "               texttemplate='%{text:.2f}%', textposition='outside', marker_color=\"green\"),\n",
    "        go.Bar(name=\"Ex Ante Risk Contribution (%)\", x=sectors, y=variance_contributions[0] * 100, \n",
    "               text=variance_contributions[0] * 100, texttemplate='%{text:.2f}%', textposition='outside',\n",
    "               marker_color=\"blue\")\n",
    "    ],\n",
    "    layout=go.Layout(\n",
    "        title=\"Optimization Process: Active Weights and Ex Ante Risk Contribution\",\n",
    "        barmode='group',\n",
    "        yaxis=dict(range=[-50, 50]),\n",
    "        sliders=[{\n",
    "            \"steps\": [\n",
    "                {\"method\": \"animate\", \"args\": [[f\"Iteration {i+1}\"], {\"frame\": {\"duration\": 0, \"redraw\": True}}],\n",
    "                 \"label\": f\"Iteration {i+1}\"} for i in range(len(frames))\n",
    "            ]\n",
    "        }]\n",
    "    ),\n",
    "    frames=frames\n",
    ")\n",
    "\n",
    "# Export HTML with Barclays Styling and MathJax\n",
    "plotly_html = fig.to_html(full_html=False, include_plotlyjs='cdn')"
   ]
  },
  {
   "cell_type": "code",
   "execution_count": 206,
   "metadata": {},
   "outputs": [],
   "source": [
    "import numpy as np\n",
    "import plotly.graph_objects as go\n",
    "from scipy.optimize import minimize\n",
    "\n",
    "# Input Data\n",
    "sectors = ['Energy', 'Industrials', 'Information Technology', 'Utilities', 'Health Care', 'Financials']\n",
    "benchmark_weights = np.array([0.034575, 0.087423, 0.311420, 0.024957, 0.107466, 0.157911])\n",
    "underweight_matrix = np.array([\n",
    "    [0.089618, 0.025347, 0.011072, 0.015178, 0.008784, 0.028007],\n",
    "    [0.025347, 0.030405, 0.029316, 0.017300, 0.015910, 0.029440],\n",
    "    [0.011072, 0.029316, 0.051999, 0.015003, 0.019991, 0.029051],\n",
    "    [0.015178, 0.017300, 0.015003, 0.033967, 0.016893, 0.018864],\n",
    "    [0.008784, 0.015910, 0.019991, 0.016893, 0.022112, 0.018360],\n",
    "    [0.028007, 0.029440, 0.029051, 0.018864, 0.018360, 0.036468]\n",
    "])\n",
    "active_share_target = 0.5\n",
    "initial_guess = np.full(len(benchmark_weights), 0.5 / len(benchmark_weights))\n",
    "\n",
    "# Active Risk Calculation\n",
    "def calculate_active_risk(weights, covariance_matrix):\n",
    "    portfolio_variance = np.dot(weights.T, np.dot(covariance_matrix, weights))\n",
    "    return np.sqrt(portfolio_variance)\n",
    "\n",
    "# Marginal Risk Contribution (Gradients)\n",
    "def marginal_risk_contribution(weights, covariance_matrix):\n",
    "    return np.dot(covariance_matrix, weights)\n",
    "\n",
    "# Objective Function: Minimize Variance Contribution Std\n",
    "def objective(weights):\n",
    "    active_risk = calculate_active_risk(weights, underweight_matrix)\n",
    "    marginal_risk = marginal_risk_contribution(weights, underweight_matrix) / active_risk\n",
    "    variance_contribution = (marginal_risk * weights) / active_risk\n",
    "    return np.sum((variance_contribution[variance_contribution != 0] - (1/np.count_nonzero(weights))) ** 2)\n",
    "\n",
    "# Track Iterations, Gradients, Active Weights, Variance Contributions\n",
    "iterations, absolute_weights, gradients, active_weights, variance_contributions, std_values, active_share_values = [], [], [], [], [], [], []\n",
    "iterations.append(initial_guess)\n",
    "absolute_weights.append(benchmark_weights - initial_guess)\n",
    "active_risk = calculate_active_risk(initial_guess, underweight_matrix)\n",
    "marginal_risk = marginal_risk_contribution(initial_guess, underweight_matrix) / active_risk\n",
    "active_weights.append(initial_guess)\n",
    "variance_contributions.append((marginal_risk * initial_guess) / active_risk)\n",
    "vc = (marginal_risk * initial_guess) / active_risk\n",
    "std_values.append(np.sum((vc[vc != 0] - (1/np.count_nonzero(initial_guess))) ** 2))\n",
    "active_share_values.append(np.sum(initial_guess))\n",
    "def callback(weights):\n",
    "    iterations.append(weights.copy())\n",
    "    absolute_weights.append(benchmark_weights - weights)\n",
    "    gradients.append(marginal_risk_contribution(weights, underweight_matrix))\n",
    "    active_weights.append(weights)\n",
    "    active_risk = calculate_active_risk(weights, underweight_matrix)\n",
    "    marginal_risk = marginal_risk_contribution(weights, underweight_matrix) / active_risk\n",
    "    variance_contributions.append((marginal_risk * weights) / active_risk)\n",
    "    vc = (marginal_risk * weights) / active_risk\n",
    "    std_values.append(np.sum((vc[vc != 0] - (1/np.count_nonzero(weights))) ** 2))\n",
    "    active_share_values.append(np.sum(weights))  \n",
    "\n",
    "\n",
    "# Constraints\n",
    "constraints = [{'type': 'eq', 'fun': lambda x: np.sum(x)  - active_share_target}]\n",
    "bounds = [(0, 1) for _ in benchmark_weights]\n",
    "\n",
    "# Optimization\n",
    "minimize(objective, initial_guess, method='SLSQP', bounds=bounds, constraints=constraints, callback=callback,tol=1e-6)\n",
    "\n",
    "max_y_values = [max(np.max(active_weights[i] * 100), np.max(variance_contributions[i] * 100)) for i in range(len(iterations))]\n",
    "\n",
    "# Prepare Data for Plotly\n",
    "iterations, active_weights, variance_contributions = map(np.array, [iterations, active_weights, variance_contributions])\n",
    "frames = [\n",
    "    go.Frame(\n",
    "        data=[\n",
    "            go.Bar(name=\"Active Weight (%)\", x=sectors, y=active_weights[i] * 100, text=active_weights[i] * 100, \n",
    "                   texttemplate='%{text:.2f}%', textposition='outside', marker_color=\"orange\"),\n",
    "            go.Bar(name=\"Absolute Weight (%)\", x=sectors, y=absolute_weights[i] * 100, text=absolute_weights[i] * 100, \n",
    "                   texttemplate='%{text:.2f}%', textposition='outside', marker_color=\"green\"),\n",
    "            go.Bar(name=\"Ex Ante Risk Contribution (%)\", x=sectors, y=variance_contributions[i] * 100, \n",
    "                   text=variance_contributions[i] * 100, texttemplate='%{text:.2f}%', textposition='outside',\n",
    "                   marker_color=\"blue\")\n",
    "        ],\n",
    "        name=f\"Iteration {i+1}\",\n",
    "        layout=go.Layout(\n",
    "            annotations=[\n",
    "                dict(\n",
    "                    text=f\"Sum of Squared Differences: {std_values[i]:.4f} | Active Share: {active_share_values[i]:.4f}\",\n",
    "                    x=0.5,\n",
    "                    y=-0.2,\n",
    "                    xref=\"paper\", yref=\"paper\",\n",
    "                    showarrow=False,\n",
    "                    font=dict(size=14)\n",
    "                )\n",
    "            ]\n",
    "        )\n",
    "    ) for i in range(len(iterations))\n",
    "]\n",
    "\n",
    "# Plotly Figure\n",
    "fig = go.Figure(\n",
    "    data=[\n",
    "        go.Bar(name=\"Active Weight (%)\", x=sectors, y=active_weights[0] * 100, text=active_weights[0] * 100, \n",
    "               texttemplate='%{text:.2f}%', textposition='outside', marker_color=\"orange\"),\n",
    "        go.Bar(name=\"Absolute Weight (%)\", x=sectors, y=absolute_weights[0] * 100, text=absolute_weights[0] * 100, \n",
    "               texttemplate='%{text:.2f}%', textposition='outside', marker_color=\"green\"),\n",
    "        go.Bar(name=\"Ex Ante Risk Contribution (%)\", x=sectors, y=variance_contributions[0] * 100, \n",
    "               text=variance_contributions[0] * 100, texttemplate='%{text:.2f}%', textposition='outside',\n",
    "               marker_color=\"blue\")\n",
    "    ],\n",
    "    layout=go.Layout(\n",
    "        title=\"Optimization Process: Active Weights and Ex Ante Risk Contribution Allowing for Shorts\",\n",
    "        barmode='group',\n",
    "        yaxis=dict(range=[-50, 50]),\n",
    "        sliders=[{\n",
    "            \"steps\": [\n",
    "                {\"method\": \"animate\", \"args\": [[f\"Iteration {i+1}\"], {\"frame\": {\"duration\": 0, \"redraw\": True}}],\n",
    "                 \"label\": f\"Iteration {i+1}\"} for i in range(len(frames))\n",
    "            ]\n",
    "        }]\n",
    "    ),\n",
    "    frames=frames\n",
    ")\n",
    "\n",
    "# Export HTML with Barclays Styling and MathJax\n",
    "plotly_html_short = fig.to_html(full_html=False, include_plotlyjs='cdn')"
   ]
  },
  {
   "cell_type": "code",
   "execution_count": 207,
   "metadata": {},
   "outputs": [
    {
     "data": {
      "text/plain": [
       "array([0.08333333, 0.08333333, 0.08333333, 0.08333333, 0.08333333,\n",
       "       0.08333333])"
      ]
     },
     "execution_count": 207,
     "metadata": {},
     "output_type": "execute_result"
    }
   ],
   "source": [
    "initial_guess"
   ]
  },
  {
   "cell_type": "code",
   "execution_count": 38,
   "metadata": {},
   "outputs": [
    {
     "name": "stderr",
     "output_type": "stream",
     "text": [
      "<>:266: SyntaxWarning:\n",
      "\n",
      "invalid escape sequence '\\('\n",
      "\n",
      "<>:266: SyntaxWarning:\n",
      "\n",
      "invalid escape sequence '\\('\n",
      "\n",
      "<>:266: SyntaxWarning:\n",
      "\n",
      "invalid escape sequence '\\('\n",
      "\n",
      "<>:266: SyntaxWarning:\n",
      "\n",
      "invalid escape sequence '\\('\n",
      "\n",
      "<>:266: SyntaxWarning:\n",
      "\n",
      "invalid escape sequence '\\('\n",
      "\n",
      "<>:266: SyntaxWarning:\n",
      "\n",
      "invalid escape sequence '\\('\n",
      "\n",
      "<>:266: SyntaxWarning:\n",
      "\n",
      "invalid escape sequence '\\('\n",
      "\n",
      "<>:266: SyntaxWarning:\n",
      "\n",
      "invalid escape sequence '\\('\n",
      "\n",
      "<>:266: SyntaxWarning:\n",
      "\n",
      "invalid escape sequence '\\('\n",
      "\n",
      "<>:266: SyntaxWarning:\n",
      "\n",
      "invalid escape sequence '\\('\n",
      "\n",
      "<>:266: SyntaxWarning:\n",
      "\n",
      "invalid escape sequence '\\('\n",
      "\n",
      "<>:266: SyntaxWarning:\n",
      "\n",
      "invalid escape sequence '\\('\n",
      "\n",
      "<>:266: SyntaxWarning:\n",
      "\n",
      "invalid escape sequence '\\('\n",
      "\n",
      "<>:266: SyntaxWarning:\n",
      "\n",
      "invalid escape sequence '\\('\n",
      "\n",
      "<>:266: SyntaxWarning:\n",
      "\n",
      "invalid escape sequence '\\('\n",
      "\n",
      "<>:266: SyntaxWarning:\n",
      "\n",
      "invalid escape sequence '\\('\n",
      "\n",
      "<>:266: SyntaxWarning:\n",
      "\n",
      "invalid escape sequence '\\('\n",
      "\n",
      "<>:266: SyntaxWarning:\n",
      "\n",
      "invalid escape sequence '\\('\n",
      "\n",
      "<>:266: SyntaxWarning:\n",
      "\n",
      "invalid escape sequence '\\('\n",
      "\n",
      "<>:266: SyntaxWarning:\n",
      "\n",
      "invalid escape sequence '\\('\n",
      "\n",
      "C:\\Users\\caspe\\AppData\\Local\\Temp\\ipykernel_11560\\3246369813.py:266: SyntaxWarning:\n",
      "\n",
      "invalid escape sequence '\\('\n",
      "\n",
      "C:\\Users\\caspe\\AppData\\Local\\Temp\\ipykernel_11560\\3246369813.py:266: SyntaxWarning:\n",
      "\n",
      "invalid escape sequence '\\('\n",
      "\n",
      "C:\\Users\\caspe\\AppData\\Local\\Temp\\ipykernel_11560\\3246369813.py:266: SyntaxWarning:\n",
      "\n",
      "invalid escape sequence '\\('\n",
      "\n",
      "C:\\Users\\caspe\\AppData\\Local\\Temp\\ipykernel_11560\\3246369813.py:266: SyntaxWarning:\n",
      "\n",
      "invalid escape sequence '\\('\n",
      "\n",
      "C:\\Users\\caspe\\AppData\\Local\\Temp\\ipykernel_11560\\3246369813.py:266: SyntaxWarning:\n",
      "\n",
      "invalid escape sequence '\\('\n",
      "\n",
      "C:\\Users\\caspe\\AppData\\Local\\Temp\\ipykernel_11560\\3246369813.py:266: SyntaxWarning:\n",
      "\n",
      "invalid escape sequence '\\('\n",
      "\n",
      "C:\\Users\\caspe\\AppData\\Local\\Temp\\ipykernel_11560\\3246369813.py:266: SyntaxWarning:\n",
      "\n",
      "invalid escape sequence '\\('\n",
      "\n",
      "C:\\Users\\caspe\\AppData\\Local\\Temp\\ipykernel_11560\\3246369813.py:266: SyntaxWarning:\n",
      "\n",
      "invalid escape sequence '\\('\n",
      "\n",
      "C:\\Users\\caspe\\AppData\\Local\\Temp\\ipykernel_11560\\3246369813.py:266: SyntaxWarning:\n",
      "\n",
      "invalid escape sequence '\\('\n",
      "\n",
      "C:\\Users\\caspe\\AppData\\Local\\Temp\\ipykernel_11560\\3246369813.py:266: SyntaxWarning:\n",
      "\n",
      "invalid escape sequence '\\('\n",
      "\n",
      "C:\\Users\\caspe\\AppData\\Local\\Temp\\ipykernel_11560\\3246369813.py:266: SyntaxWarning:\n",
      "\n",
      "invalid escape sequence '\\('\n",
      "\n",
      "C:\\Users\\caspe\\AppData\\Local\\Temp\\ipykernel_11560\\3246369813.py:266: SyntaxWarning:\n",
      "\n",
      "invalid escape sequence '\\('\n",
      "\n",
      "C:\\Users\\caspe\\AppData\\Local\\Temp\\ipykernel_11560\\3246369813.py:266: SyntaxWarning:\n",
      "\n",
      "invalid escape sequence '\\('\n",
      "\n",
      "C:\\Users\\caspe\\AppData\\Local\\Temp\\ipykernel_11560\\3246369813.py:266: SyntaxWarning:\n",
      "\n",
      "invalid escape sequence '\\('\n",
      "\n",
      "C:\\Users\\caspe\\AppData\\Local\\Temp\\ipykernel_11560\\3246369813.py:266: SyntaxWarning:\n",
      "\n",
      "invalid escape sequence '\\('\n",
      "\n",
      "C:\\Users\\caspe\\AppData\\Local\\Temp\\ipykernel_11560\\3246369813.py:266: SyntaxWarning:\n",
      "\n",
      "invalid escape sequence '\\('\n",
      "\n",
      "C:\\Users\\caspe\\AppData\\Local\\Temp\\ipykernel_11560\\3246369813.py:266: SyntaxWarning:\n",
      "\n",
      "invalid escape sequence '\\('\n",
      "\n",
      "C:\\Users\\caspe\\AppData\\Local\\Temp\\ipykernel_11560\\3246369813.py:266: SyntaxWarning:\n",
      "\n",
      "invalid escape sequence '\\('\n",
      "\n",
      "C:\\Users\\caspe\\AppData\\Local\\Temp\\ipykernel_11560\\3246369813.py:266: SyntaxWarning:\n",
      "\n",
      "invalid escape sequence '\\('\n",
      "\n",
      "C:\\Users\\caspe\\AppData\\Local\\Temp\\ipykernel_11560\\3246369813.py:266: SyntaxWarning:\n",
      "\n",
      "invalid escape sequence '\\('\n",
      "\n"
     ]
    },
    {
     "ename": "NameError",
     "evalue": "name 'plotly_html' is not defined",
     "output_type": "error",
     "traceback": [
      "\u001b[1;31m---------------------------------------------------------------------------\u001b[0m",
      "\u001b[1;31mNameError\u001b[0m                                 Traceback (most recent call last)",
      "Cell \u001b[1;32mIn[38], line 150\u001b[0m\n\u001b[0;32m      1\u001b[0m html_content \u001b[38;5;241m=\u001b[39m \u001b[38;5;124mf\u001b[39m\u001b[38;5;124m\"\"\"\u001b[39m\n\u001b[0;32m      2\u001b[0m \u001b[38;5;124m<!DOCTYPE html>\u001b[39m\n\u001b[0;32m      3\u001b[0m \u001b[38;5;124m<html>\u001b[39m\n\u001b[0;32m      4\u001b[0m \u001b[38;5;124m<head>\u001b[39m\n\u001b[0;32m      5\u001b[0m \u001b[38;5;124m    <title>Optimization Visualization</title>\u001b[39m\n\u001b[0;32m      6\u001b[0m \u001b[38;5;124m    <script src=\u001b[39m\u001b[38;5;124m\"\u001b[39m\u001b[38;5;124mhttps://cdnjs.cloudflare.com/ajax/libs/mathjax/2.7.7/MathJax.js?config=TeX-AMS_CHTML\u001b[39m\u001b[38;5;124m\"\u001b[39m\u001b[38;5;124m></script>\u001b[39m\n\u001b[0;32m      7\u001b[0m \u001b[38;5;124m    <style>\u001b[39m\n\u001b[0;32m      8\u001b[0m \u001b[38;5;124m        body \u001b[39m\u001b[38;5;130;01m{{\u001b[39;00m\n\u001b[0;32m      9\u001b[0m \u001b[38;5;124m            font-family: Arial, sans-serif;\u001b[39m\n\u001b[0;32m     10\u001b[0m \u001b[38;5;124m            background-color: #f4f4f4;\u001b[39m\n\u001b[0;32m     11\u001b[0m \u001b[38;5;124m            color: #333;\u001b[39m\n\u001b[0;32m     12\u001b[0m \u001b[38;5;124m            margin: 0;\u001b[39m\n\u001b[0;32m     13\u001b[0m \u001b[38;5;124m            padding: 20px;\u001b[39m\n\u001b[0;32m     14\u001b[0m \u001b[38;5;124m        \u001b[39m\u001b[38;5;130;01m}}\u001b[39;00m\n\u001b[0;32m     15\u001b[0m \u001b[38;5;124m        h1, h2, h3 \u001b[39m\u001b[38;5;130;01m{{\u001b[39;00m\n\u001b[0;32m     16\u001b[0m \u001b[38;5;124m            color: #0078D7;\u001b[39m\n\u001b[0;32m     17\u001b[0m \u001b[38;5;124m        \u001b[39m\u001b[38;5;130;01m}}\u001b[39;00m\n\u001b[0;32m     18\u001b[0m \u001b[38;5;124m        .content \u001b[39m\u001b[38;5;130;01m{{\u001b[39;00m\n\u001b[0;32m     19\u001b[0m \u001b[38;5;124m            background: white;\u001b[39m\n\u001b[0;32m     20\u001b[0m \u001b[38;5;124m            padding: 20px;\u001b[39m\n\u001b[0;32m     21\u001b[0m \u001b[38;5;124m            border-radius: 8px;\u001b[39m\n\u001b[0;32m     22\u001b[0m \u001b[38;5;124m            box-shadow: 0px 4px 6px rgba(0,0,0,0.1);\u001b[39m\n\u001b[0;32m     23\u001b[0m \u001b[38;5;124m            margin-bottom: 20px;\u001b[39m\n\u001b[0;32m     24\u001b[0m \u001b[38;5;124m        \u001b[39m\u001b[38;5;130;01m}}\u001b[39;00m\n\u001b[0;32m     25\u001b[0m \u001b[38;5;124m        p, ul \u001b[39m\u001b[38;5;130;01m{{\u001b[39;00m\n\u001b[0;32m     26\u001b[0m \u001b[38;5;124m            line-height: 1.6;\u001b[39m\n\u001b[0;32m     27\u001b[0m \u001b[38;5;124m        \u001b[39m\u001b[38;5;130;01m}}\u001b[39;00m\n\u001b[0;32m     28\u001b[0m \u001b[38;5;124m        ul \u001b[39m\u001b[38;5;130;01m{{\u001b[39;00m\n\u001b[0;32m     29\u001b[0m \u001b[38;5;124m            padding-left: 20px;\u001b[39m\n\u001b[0;32m     30\u001b[0m \u001b[38;5;124m        \u001b[39m\u001b[38;5;130;01m}}\u001b[39;00m\n\u001b[0;32m     31\u001b[0m \u001b[38;5;124m        .equation \u001b[39m\u001b[38;5;130;01m{{\u001b[39;00m\n\u001b[0;32m     32\u001b[0m \u001b[38;5;124m            text-align: center;\u001b[39m\n\u001b[0;32m     33\u001b[0m \u001b[38;5;124m            margin: 10px 0;\u001b[39m\n\u001b[0;32m     34\u001b[0m \u001b[38;5;124m        \u001b[39m\u001b[38;5;130;01m}}\u001b[39;00m\n\u001b[0;32m     35\u001b[0m \u001b[38;5;124m    </style>\u001b[39m\n\u001b[0;32m     36\u001b[0m \u001b[38;5;124m</head>\u001b[39m\n\u001b[0;32m     37\u001b[0m \u001b[38;5;124m<body>\u001b[39m\n\u001b[0;32m     38\u001b[0m \u001b[38;5;124m    <div class=\u001b[39m\u001b[38;5;124m\"\u001b[39m\u001b[38;5;124mcontent\u001b[39m\u001b[38;5;124m\"\u001b[39m\u001b[38;5;124m>\u001b[39m\n\u001b[0;32m     39\u001b[0m \u001b[38;5;124m        <h1>Mathematical Explanation of the Risk Distribution Optimization</h1>\u001b[39m\n\u001b[0;32m     40\u001b[0m \n\u001b[0;32m     41\u001b[0m \u001b[38;5;124m        <h2>Ex Ante Active Risk</h2>\u001b[39m\n\u001b[0;32m     42\u001b[0m \u001b[38;5;124m        <p>\u001b[39m\n\u001b[0;32m     43\u001b[0m \u001b[38;5;124m            The <strong>Ex Ante Active Risk</strong> (used interchangeably with Ex Ante Tracking Error) measures the portfolio\u001b[39m\u001b[38;5;124m'\u001b[39m\u001b[38;5;124ms <strong>expected</strong>  deviation from the benchmark. It is defined as:\u001b[39m\n\u001b[0;32m     44\u001b[0m \u001b[38;5;124m        </p>\u001b[39m\n\u001b[0;32m     45\u001b[0m \u001b[38;5;124m        <div class=\u001b[39m\u001b[38;5;124m\"\u001b[39m\u001b[38;5;124mequation\u001b[39m\u001b[38;5;124m\"\u001b[39m\u001b[38;5;124m>\u001b[39m\n\u001b[0;32m     46\u001b[0m \u001b[38;5;124m            \u001b[39m\u001b[38;5;130;01m\\\\\u001b[39;00m\u001b[38;5;124m[\u001b[39m\n\u001b[0;32m     47\u001b[0m \u001b[38;5;124m            \u001b[39m\u001b[38;5;130;01m\\\\\u001b[39;00m\u001b[38;5;124mtext\u001b[39m\u001b[38;5;130;01m{{\u001b[39;00m\u001b[38;5;124mEx Ante Tracking Error\u001b[39m\u001b[38;5;130;01m}}\u001b[39;00m\u001b[38;5;124m = \u001b[39m\u001b[38;5;130;01m\\\\\u001b[39;00m\u001b[38;5;124msqrt\u001b[39m\u001b[38;5;130;01m{{\u001b[39;00m\u001b[38;5;124m(w - w_b)^T \u001b[39m\u001b[38;5;130;01m\\\\\u001b[39;00m\u001b[38;5;124mSigma (w - w_b)\u001b[39m\u001b[38;5;130;01m}}\u001b[39;00m\n\u001b[0;32m     48\u001b[0m \u001b[38;5;124m            \u001b[39m\u001b[38;5;130;01m\\\\\u001b[39;00m\u001b[38;5;124m]\u001b[39m\n\u001b[0;32m     49\u001b[0m \u001b[38;5;124m        </div>\u001b[39m\n\u001b[0;32m     50\u001b[0m \u001b[38;5;124m        <p>Where:</p>\u001b[39m\n\u001b[0;32m     51\u001b[0m \u001b[38;5;124m        <ul>\u001b[39m\n\u001b[0;32m     52\u001b[0m \u001b[38;5;124m            <li><strong>\u001b[39m\u001b[38;5;124m\\\u001b[39m\u001b[38;5;124m( w \u001b[39m\u001b[38;5;124m\\\u001b[39m\u001b[38;5;124m)</strong>: Portfolio weights</li>\u001b[39m\n\u001b[0;32m     53\u001b[0m \u001b[38;5;124m            <li><strong>\u001b[39m\u001b[38;5;124m\\\u001b[39m\u001b[38;5;124m( w_b \u001b[39m\u001b[38;5;124m\\\u001b[39m\u001b[38;5;124m)</strong>: Benchmark weights</li>\u001b[39m\n\u001b[0;32m     54\u001b[0m \u001b[38;5;124m            <li><strong>\u001b[39m\u001b[38;5;124m\\\u001b[39m\u001b[38;5;124m( \u001b[39m\u001b[38;5;130;01m\\\\\u001b[39;00m\u001b[38;5;124mSigma \u001b[39m\u001b[38;5;124m\\\u001b[39m\u001b[38;5;124m)</strong>: Covariance matrix of sector returns</li>\u001b[39m\n\u001b[0;32m     55\u001b[0m \u001b[38;5;124m            <li><strong>\u001b[39m\u001b[38;5;124m\\\u001b[39m\u001b[38;5;124m( (w - w_b) \u001b[39m\u001b[38;5;124m\\\u001b[39m\u001b[38;5;124m)</strong>: Active weights (portfolio weights minus benchmark weights)</li>\u001b[39m\n\u001b[0;32m     56\u001b[0m \u001b[38;5;124m        </ul>\u001b[39m\n\u001b[0;32m     57\u001b[0m \n\u001b[0;32m     58\u001b[0m \u001b[38;5;124m        <h2>Marginal Risk Contribution</h2>\u001b[39m\n\u001b[0;32m     59\u001b[0m \u001b[38;5;124m        <p>\u001b[39m\n\u001b[0;32m     60\u001b[0m \u001b[38;5;124m            The <strong>Marginal Risk Contribution</strong> represents the sensitivity of the portfolio\u001b[39m\u001b[38;5;124m'\u001b[39m\u001b[38;5;124ms active risk to a small change in active weight in sector \u001b[39m\u001b[38;5;124m\\\u001b[39m\u001b[38;5;124m( i \u001b[39m\u001b[38;5;124m\\\u001b[39m\u001b[38;5;124m). It is calculated as:\u001b[39m\n\u001b[0;32m     61\u001b[0m \u001b[38;5;124m        </p>\u001b[39m\n\u001b[0;32m     62\u001b[0m \u001b[38;5;124m        <div class=\u001b[39m\u001b[38;5;124m\"\u001b[39m\u001b[38;5;124mequation\u001b[39m\u001b[38;5;124m\"\u001b[39m\u001b[38;5;124m>\u001b[39m\n\u001b[0;32m     63\u001b[0m \u001b[38;5;124m            \u001b[39m\u001b[38;5;130;01m\\\\\u001b[39;00m\u001b[38;5;124m[\u001b[39m\n\u001b[0;32m     64\u001b[0m \u001b[38;5;124m            \u001b[39m\u001b[38;5;130;01m\\\\\u001b[39;00m\u001b[38;5;124mtext\u001b[39m\u001b[38;5;130;01m{{\u001b[39;00m\u001b[38;5;124mMarginal Risk Contribution\u001b[39m\u001b[38;5;130;01m}}\u001b[39;00m\u001b[38;5;124m_i = \u001b[39m\u001b[38;5;130;01m\\\\\u001b[39;00m\u001b[38;5;124mfrac\u001b[39m\u001b[38;5;130;01m{{\u001b[39;00m\u001b[38;5;130;01m\\\\\u001b[39;00m\u001b[38;5;124mpartial \u001b[39m\u001b[38;5;130;01m\\\\\u001b[39;00m\u001b[38;5;124mtext\u001b[39m\u001b[38;5;130;01m{{\u001b[39;00m\u001b[38;5;124mEx Ante Active Risk\u001b[39m\u001b[38;5;130;01m}}\u001b[39;00m\u001b[38;5;130;01m}}\u001b[39;00m\u001b[38;5;130;01m{{\u001b[39;00m\u001b[38;5;130;01m\\\\\u001b[39;00m\u001b[38;5;124mpartial w_i\u001b[39m\u001b[38;5;130;01m}}\u001b[39;00m\u001b[38;5;124m = \u001b[39m\u001b[38;5;130;01m\\\\\u001b[39;00m\u001b[38;5;124mfrac\u001b[39m\u001b[38;5;130;01m{{\u001b[39;00m\u001b[38;5;130;01m\\\\\u001b[39;00m\u001b[38;5;124mSigma w\u001b[39m\u001b[38;5;130;01m}}\u001b[39;00m\u001b[38;5;130;01m{{\u001b[39;00m\u001b[38;5;130;01m\\\\\u001b[39;00m\u001b[38;5;124mtext\u001b[39m\u001b[38;5;130;01m{{\u001b[39;00m\u001b[38;5;124mEx Ante Tracking Error\u001b[39m\u001b[38;5;130;01m}}\u001b[39;00m\u001b[38;5;130;01m}}\u001b[39;00m\n\u001b[0;32m     65\u001b[0m \u001b[38;5;124m            \u001b[39m\u001b[38;5;130;01m\\\\\u001b[39;00m\u001b[38;5;124m]\u001b[39m\n\u001b[0;32m     66\u001b[0m \u001b[38;5;124m        </div>\u001b[39m\n\u001b[0;32m     67\u001b[0m \n\u001b[0;32m     68\u001b[0m \u001b[38;5;124m        <h2>Ex Ante Active Risk Contribution</h2>\u001b[39m\n\u001b[0;32m     69\u001b[0m \u001b[38;5;124m        <p>\u001b[39m\n\u001b[0;32m     70\u001b[0m \u001b[38;5;124m            The <strong>Ex Ante Active Risk Contribution</strong> quantifies the risk contributed by each sector to the total Ex Ante active risk. It is calculated as:\u001b[39m\n\u001b[0;32m     71\u001b[0m \u001b[38;5;124m        </p>\u001b[39m\n\u001b[0;32m     72\u001b[0m \u001b[38;5;124m        <div class=\u001b[39m\u001b[38;5;124m\"\u001b[39m\u001b[38;5;124mequation\u001b[39m\u001b[38;5;124m\"\u001b[39m\u001b[38;5;124m>\u001b[39m\n\u001b[0;32m     73\u001b[0m \u001b[38;5;124m            \u001b[39m\u001b[38;5;130;01m\\\\\u001b[39;00m\u001b[38;5;124m[\u001b[39m\n\u001b[0;32m     74\u001b[0m \u001b[38;5;124m            \u001b[39m\u001b[38;5;130;01m\\\\\u001b[39;00m\u001b[38;5;124mtext\u001b[39m\u001b[38;5;130;01m{{\u001b[39;00m\u001b[38;5;124mEx Ante Active Risk Contribution\u001b[39m\u001b[38;5;130;01m}}\u001b[39;00m\u001b[38;5;124m_i = \u001b[39m\u001b[38;5;130;01m\\\\\u001b[39;00m\u001b[38;5;124mfrac\u001b[39m\u001b[38;5;130;01m{{\u001b[39;00m\u001b[38;5;130;01m\\\\\u001b[39;00m\u001b[38;5;124mpartial \u001b[39m\u001b[38;5;130;01m\\\\\u001b[39;00m\u001b[38;5;124mtext\u001b[39m\u001b[38;5;130;01m{{\u001b[39;00m\u001b[38;5;124mEx Ante Active Risk\u001b[39m\u001b[38;5;130;01m}}\u001b[39;00m\u001b[38;5;130;01m}}\u001b[39;00m\u001b[38;5;130;01m{{\u001b[39;00m\u001b[38;5;130;01m\\\\\u001b[39;00m\u001b[38;5;124mpartial w_i\u001b[39m\u001b[38;5;130;01m}}\u001b[39;00m\u001b[38;5;124m \u001b[39m\u001b[38;5;130;01m\\\\\u001b[39;00m\u001b[38;5;124mcdot w_i\u001b[39m\n\u001b[0;32m     75\u001b[0m \u001b[38;5;124m            \u001b[39m\u001b[38;5;130;01m\\\\\u001b[39;00m\u001b[38;5;124m]\u001b[39m\n\u001b[0;32m     76\u001b[0m \u001b[38;5;124m        </div>\u001b[39m\n\u001b[0;32m     77\u001b[0m \n\u001b[0;32m     78\u001b[0m \u001b[38;5;124m        <h2>Objective Function: Minimize Standard Deviation of Ex Ante Active Risk Contributions</h2>\u001b[39m\n\u001b[0;32m     79\u001b[0m \u001b[38;5;124m        <p>\u001b[39m\n\u001b[0;32m     80\u001b[0m \u001b[38;5;124m            The optimization minimizes the standard deviation of the Ex Ante active risk contributions:\u001b[39m\n\u001b[0;32m     81\u001b[0m \u001b[38;5;124m        </p>\u001b[39m\n\u001b[0;32m     82\u001b[0m \u001b[38;5;124m        <div class=\u001b[39m\u001b[38;5;124m\"\u001b[39m\u001b[38;5;124mequation\u001b[39m\u001b[38;5;124m\"\u001b[39m\u001b[38;5;124m>\u001b[39m\n\u001b[0;32m     83\u001b[0m \u001b[38;5;124m            \u001b[39m\u001b[38;5;130;01m\\\\\u001b[39;00m\u001b[38;5;124m[\u001b[39m\n\u001b[0;32m     84\u001b[0m \u001b[38;5;124m            \u001b[39m\u001b[38;5;130;01m\\\\\u001b[39;00m\u001b[38;5;124mtext\u001b[39m\u001b[38;5;130;01m{{\u001b[39;00m\u001b[38;5;124mObjective\u001b[39m\u001b[38;5;130;01m}}\u001b[39;00m\u001b[38;5;124m = \u001b[39m\u001b[38;5;130;01m\\\\\u001b[39;00m\u001b[38;5;124mtext\u001b[39m\u001b[38;5;130;01m{{\u001b[39;00m\u001b[38;5;124mMIN std\u001b[39m\u001b[38;5;130;01m}}\u001b[39;00m\u001b[38;5;124m(\u001b[39m\u001b[38;5;130;01m\\\\\u001b[39;00m\u001b[38;5;124mtext\u001b[39m\u001b[38;5;130;01m{{\u001b[39;00m\u001b[38;5;124mEx Ante Active Risk Contributions\u001b[39m\u001b[38;5;130;01m}}\u001b[39;00m\u001b[38;5;124m)\u001b[39m\n\u001b[0;32m     85\u001b[0m \u001b[38;5;124m            \u001b[39m\u001b[38;5;130;01m\\\\\u001b[39;00m\u001b[38;5;124m]\u001b[39m\n\u001b[0;32m     86\u001b[0m \u001b[38;5;124m        </div>\u001b[39m\n\u001b[0;32m     87\u001b[0m \n\u001b[0;32m     88\u001b[0m \u001b[38;5;124m        <h2>Constraints</h2>\u001b[39m\n\u001b[0;32m     89\u001b[0m \u001b[38;5;124m        <ul>\u001b[39m\n\u001b[0;32m     90\u001b[0m \u001b[38;5;124m            <li>\u001b[39m\n\u001b[0;32m     91\u001b[0m \u001b[38;5;124m                <strong>Active Share Constraint:</strong><br>\u001b[39m\n\u001b[0;32m     92\u001b[0m \u001b[38;5;124m                The portfolio must deviate from the benchmark by a specified active share target \u001b[39m\u001b[38;5;124m\\\u001b[39m\u001b[38;5;124m( k \u001b[39m\u001b[38;5;124m\\\u001b[39m\u001b[38;5;124m) - in our case we set this at 0.5:\u001b[39m\n\u001b[0;32m     93\u001b[0m \u001b[38;5;124m                <div class=\u001b[39m\u001b[38;5;124m\"\u001b[39m\u001b[38;5;124mequation\u001b[39m\u001b[38;5;124m\"\u001b[39m\u001b[38;5;124m>\u001b[39m\n\u001b[0;32m     94\u001b[0m \u001b[38;5;124m                    \u001b[39m\u001b[38;5;130;01m\\\\\u001b[39;00m\u001b[38;5;124m[\u001b[39m\n\u001b[0;32m     95\u001b[0m \u001b[38;5;124m                    \u001b[39m\u001b[38;5;130;01m\\\\\u001b[39;00m\u001b[38;5;124mtext\u001b[39m\u001b[38;5;130;01m{{\u001b[39;00m\u001b[38;5;124mActive Share\u001b[39m\u001b[38;5;130;01m}}\u001b[39;00m\u001b[38;5;124m = \u001b[39m\u001b[38;5;130;01m\\\\\u001b[39;00m\u001b[38;5;124mfrac\u001b[39m\u001b[38;5;130;01m{{\u001b[39;00m\u001b[38;5;124m1\u001b[39m\u001b[38;5;130;01m}}\u001b[39;00m\u001b[38;5;130;01m{{\u001b[39;00m\u001b[38;5;124m2\u001b[39m\u001b[38;5;130;01m}}\u001b[39;00m\u001b[38;5;124m \u001b[39m\u001b[38;5;130;01m\\\\\u001b[39;00m\u001b[38;5;124msum_\u001b[39m\u001b[38;5;130;01m{{\u001b[39;00m\u001b[38;5;124mi=1\u001b[39m\u001b[38;5;130;01m}}\u001b[39;00m\u001b[38;5;124m^N |w_i - w_\u001b[39m\u001b[38;5;130;01m{{\u001b[39;00m\u001b[38;5;124mb,i\u001b[39m\u001b[38;5;130;01m}}\u001b[39;00m\u001b[38;5;124m| = k\u001b[39m\n\u001b[0;32m     96\u001b[0m \u001b[38;5;124m                    \u001b[39m\u001b[38;5;130;01m\\\\\u001b[39;00m\u001b[38;5;124m]\u001b[39m\n\u001b[0;32m     97\u001b[0m \u001b[38;5;124m                </div>\u001b[39m\n\u001b[0;32m     98\u001b[0m \u001b[38;5;124m            </li>\u001b[39m\n\u001b[0;32m     99\u001b[0m \u001b[38;5;124m            <li>\u001b[39m\n\u001b[0;32m    100\u001b[0m \u001b[38;5;124m                <strong>No Short Constraint:</strong><br>\u001b[39m\n\u001b[0;32m    101\u001b[0m \u001b[38;5;124m                Portfolio weights cannot be negative:\u001b[39m\n\u001b[0;32m    102\u001b[0m \u001b[38;5;124m                <div class=\u001b[39m\u001b[38;5;124m\"\u001b[39m\u001b[38;5;124mequation\u001b[39m\u001b[38;5;124m\"\u001b[39m\u001b[38;5;124m>\u001b[39m\n\u001b[0;32m    103\u001b[0m \u001b[38;5;124m                    \u001b[39m\u001b[38;5;130;01m\\\\\u001b[39;00m\u001b[38;5;124m[\u001b[39m\n\u001b[0;32m    104\u001b[0m \u001b[38;5;124m                    w_i \u001b[39m\u001b[38;5;130;01m\\\\\u001b[39;00m\u001b[38;5;124mgeq 0, \u001b[39m\u001b[38;5;130;01m\\\\\u001b[39;00m\u001b[38;5;124mquad \u001b[39m\u001b[38;5;130;01m\\\\\u001b[39;00m\u001b[38;5;124mforall i\u001b[39m\n\u001b[0;32m    105\u001b[0m \u001b[38;5;124m                    \u001b[39m\u001b[38;5;130;01m\\\\\u001b[39;00m\u001b[38;5;124m]\u001b[39m\n\u001b[0;32m    106\u001b[0m \u001b[38;5;124m                </div>\u001b[39m\n\u001b[0;32m    107\u001b[0m \u001b[38;5;124m            </li>\u001b[39m\n\u001b[0;32m    108\u001b[0m \u001b[38;5;124m            <li>\u001b[39m\n\u001b[0;32m    109\u001b[0m \u001b[38;5;124m                <strong>Weight Sum Constraint:</strong><br>\u001b[39m\n\u001b[0;32m    110\u001b[0m \u001b[38;5;124m                The total sum of weights equals the active share target \u001b[39m\u001b[38;5;124m\\\u001b[39m\u001b[38;5;124m( k \u001b[39m\u001b[38;5;124m\\\u001b[39m\u001b[38;5;124m):\u001b[39m\n\u001b[0;32m    111\u001b[0m \u001b[38;5;124m                <div class=\u001b[39m\u001b[38;5;124m\"\u001b[39m\u001b[38;5;124mequation\u001b[39m\u001b[38;5;124m\"\u001b[39m\u001b[38;5;124m>\u001b[39m\n\u001b[0;32m    112\u001b[0m \u001b[38;5;124m                    \u001b[39m\u001b[38;5;130;01m\\\\\u001b[39;00m\u001b[38;5;124m[\u001b[39m\n\u001b[0;32m    113\u001b[0m \u001b[38;5;124m                    \u001b[39m\u001b[38;5;130;01m\\\\\u001b[39;00m\u001b[38;5;124msum_\u001b[39m\u001b[38;5;130;01m{{\u001b[39;00m\u001b[38;5;124mi=1\u001b[39m\u001b[38;5;130;01m}}\u001b[39;00m\u001b[38;5;124m^N w_i = k\u001b[39m\n\u001b[0;32m    114\u001b[0m \u001b[38;5;124m                    \u001b[39m\u001b[38;5;130;01m\\\\\u001b[39;00m\u001b[38;5;124m]\u001b[39m\n\u001b[0;32m    115\u001b[0m \u001b[38;5;124m                </div>\u001b[39m\n\u001b[0;32m    116\u001b[0m \u001b[38;5;124m            </li>\u001b[39m\n\u001b[0;32m    117\u001b[0m \u001b[38;5;124m        </ul>\u001b[39m\n\u001b[0;32m    118\u001b[0m \u001b[38;5;124m    </div>\u001b[39m\n\u001b[0;32m    119\u001b[0m \n\u001b[0;32m    120\u001b[0m \u001b[38;5;124m    <div class=\u001b[39m\u001b[38;5;124m\"\u001b[39m\u001b[38;5;124mcontent\u001b[39m\u001b[38;5;124m\"\u001b[39m\u001b[38;5;124m>\u001b[39m\n\u001b[0;32m    121\u001b[0m \u001b[38;5;124m        <h2>How SLSQP Optimization Works</h2>\u001b[39m\n\u001b[0;32m    122\u001b[0m \u001b[38;5;124m        <p>\u001b[39m\n\u001b[0;32m    123\u001b[0m \u001b[38;5;124m            The Sequential Least Squares Quadratic Programming (SLSQP) algorithm solves the constrained optimization problem iteratively. \u001b[39m\n\u001b[0;32m    124\u001b[0m \u001b[38;5;124m            The key steps include:\u001b[39m\n\u001b[0;32m    125\u001b[0m \u001b[38;5;124m        </p>\u001b[39m\n\u001b[0;32m    126\u001b[0m \u001b[38;5;124m        <ul>\u001b[39m\n\u001b[0;32m    127\u001b[0m \u001b[38;5;124m            <li>\u001b[39m\n\u001b[0;32m    128\u001b[0m \u001b[38;5;124m                <strong>Gradient Calculation:</strong> The gradient of the objective function with respect to the sector weights \u001b[39m\u001b[38;5;124m\\\u001b[39m\u001b[38;5;124m( w \u001b[39m\u001b[38;5;124m\\\u001b[39m\u001b[38;5;124m) \u001b[39m\n\u001b[0;32m    129\u001b[0m \u001b[38;5;124m                is computed at each iteration.\u001b[39m\n\u001b[0;32m    130\u001b[0m \u001b[38;5;124m            </li>\u001b[39m\n\u001b[0;32m    131\u001b[0m \u001b[38;5;124m            <li>\u001b[39m\n\u001b[0;32m    132\u001b[0m \u001b[38;5;124m                <strong>Constraint Satisfaction:</strong> The algorithm adjusts the sector weights to satisfy all constraints, \u001b[39m\n\u001b[0;32m    133\u001b[0m \u001b[38;5;124m                including the active share and no short constraints.\u001b[39m\n\u001b[0;32m    134\u001b[0m \u001b[38;5;124m            </li>\u001b[39m\n\u001b[0;32m    135\u001b[0m \u001b[38;5;124m            <li>\u001b[39m\n\u001b[0;32m    136\u001b[0m \u001b[38;5;124m                <strong>Step Direction:</strong> Based on the gradient, SLSQP determines the optimal step direction that minimizes \u001b[39m\n\u001b[0;32m    137\u001b[0m \u001b[38;5;124m                the objective function while respecting the constraints.\u001b[39m\n\u001b[0;32m    138\u001b[0m \u001b[38;5;124m            </li>\u001b[39m\n\u001b[0;32m    139\u001b[0m \u001b[38;5;124m            <li>\u001b[39m\n\u001b[0;32m    140\u001b[0m \u001b[38;5;124m                <strong>Convergence:</strong> The algorithm iterates until the change in the objective function or weights is sufficiently small (think 1e-6).\u001b[39m\n\u001b[0;32m    141\u001b[0m \u001b[38;5;124m            </li>\u001b[39m\n\u001b[0;32m    142\u001b[0m \u001b[38;5;124m        </ul>\u001b[39m\n\u001b[0;32m    143\u001b[0m \u001b[38;5;124m    </div>\u001b[39m\n\u001b[0;32m    144\u001b[0m \u001b[38;5;124m    </div>\u001b[39m\n\u001b[0;32m    145\u001b[0m \n\u001b[0;32m    146\u001b[0m \u001b[38;5;124m    <div class=\u001b[39m\u001b[38;5;124m\"\u001b[39m\u001b[38;5;124mcontent\u001b[39m\u001b[38;5;124m\"\u001b[39m\u001b[38;5;124m>\u001b[39m\n\u001b[0;32m    147\u001b[0m \u001b[38;5;124m        <h2>Example of SLSQP Optimization</h2>\u001b[39m\n\u001b[0;32m    148\u001b[0m \u001b[38;5;124m        <p>Below examples are the actual optimizations as of <strong>November 29th 2024</strong>. Iteration 1 represtents the starting position of the optimization and the last iteration is the final solution to the problem. You can use  the sliders to see the progression on how the optimization finds the solution</p>\u001b[39m\n\u001b[0;32m    149\u001b[0m \u001b[38;5;124m        <p>The following shows an optimization with <strong>no-short constraint</strong>:</p>\u001b[39m\n\u001b[1;32m--> 150\u001b[0m \u001b[38;5;124m        \u001b[39m\u001b[38;5;132;01m{\u001b[39;00m\u001b[43mplotly_html\u001b[49m\u001b[38;5;132;01m}\u001b[39;00m\n\u001b[0;32m    151\u001b[0m \u001b[38;5;124m        <p>The following shows the same optimization <strong>allowing short positions</strong>:</p>\u001b[39m\n\u001b[0;32m    152\u001b[0m \u001b[38;5;124m        \u001b[39m\u001b[38;5;132;01m{\u001b[39;00mplotly_html_short\u001b[38;5;132;01m}\u001b[39;00m\n\u001b[0;32m    153\u001b[0m \u001b[38;5;124m        <p>Another One</p>\u001b[39m\n\u001b[0;32m    154\u001b[0m \u001b[38;5;124m        \u001b[39m\u001b[38;5;132;01m{\u001b[39;00mhtml_content\u001b[38;5;132;01m}\u001b[39;00m\n\u001b[0;32m    155\u001b[0m \u001b[38;5;124m    </div>\u001b[39m\n\u001b[0;32m    156\u001b[0m \n\u001b[0;32m    157\u001b[0m \u001b[38;5;124m    <div class=\u001b[39m\u001b[38;5;124m\"\u001b[39m\u001b[38;5;124mcontent\u001b[39m\u001b[38;5;124m\"\u001b[39m\u001b[38;5;124m>\u001b[39m\n\u001b[0;32m    158\u001b[0m \u001b[38;5;124m        <h2>Numerical Example of Gradient Calculation and Step Size</h2>\u001b[39m\n\u001b[0;32m    159\u001b[0m \u001b[38;5;124m        <p>\u001b[39m\n\u001b[0;32m    160\u001b[0m \u001b[38;5;124m            To illustrate how the gradient is calculated and the step size is determined in the SLSQP algorithm, we use the following:\u001b[39m\n\u001b[0;32m    161\u001b[0m \u001b[38;5;124m        </p>\u001b[39m\n\u001b[0;32m    162\u001b[0m \u001b[38;5;124m        <ul>\u001b[39m\n\u001b[0;32m    163\u001b[0m \u001b[38;5;124m            <li><strong>Covariance Matrix (\u001b[39m\u001b[38;5;124m\\\u001b[39m\u001b[38;5;124m( \u001b[39m\u001b[38;5;130;01m\\\\\u001b[39;00m\u001b[38;5;124mSigma \u001b[39m\u001b[38;5;124m\\\u001b[39m\u001b[38;5;124m))</strong> (as calculated over last 3 years):</li>\u001b[39m\n\u001b[0;32m    164\u001b[0m \u001b[38;5;124m        </ul>\u001b[39m\n\u001b[0;32m    165\u001b[0m \u001b[38;5;124m        <div class=\u001b[39m\u001b[38;5;124m\"\u001b[39m\u001b[38;5;124mequation\u001b[39m\u001b[38;5;124m\"\u001b[39m\u001b[38;5;124m>\u001b[39m\n\u001b[0;32m    166\u001b[0m \u001b[38;5;124m        \u001b[39m\u001b[38;5;130;01m\\\\\u001b[39;00m\u001b[38;5;124m[\u001b[39m\n\u001b[0;32m    167\u001b[0m \u001b[38;5;124m        \u001b[39m\u001b[38;5;130;01m\\\\\u001b[39;00m\u001b[38;5;124mSigma = \u001b[39m\n\u001b[0;32m    168\u001b[0m \u001b[38;5;124m        \u001b[39m\u001b[38;5;130;01m\\\\\u001b[39;00m\u001b[38;5;124mbegin\u001b[39m\u001b[38;5;130;01m{{\u001b[39;00m\u001b[38;5;124mbmatrix\u001b[39m\u001b[38;5;130;01m}}\u001b[39;00m\n\u001b[0;32m    169\u001b[0m \u001b[38;5;124m        0.089618 & 0.025347 & 0.011072 & 0.015178 & 0.008784 & 0.028007 \u001b[39m\u001b[38;5;130;01m\\\\\u001b[39;00m\u001b[38;5;130;01m\\\\\u001b[39;00m\n\u001b[0;32m    170\u001b[0m \u001b[38;5;124m        0.025347 & 0.030405 & 0.029316 & 0.017300 & 0.015910 & 0.029440 \u001b[39m\u001b[38;5;130;01m\\\\\u001b[39;00m\u001b[38;5;130;01m\\\\\u001b[39;00m\n\u001b[0;32m    171\u001b[0m \u001b[38;5;124m        0.011072 & 0.029316 & 0.051999 & 0.015003 & 0.019991 & 0.029051 \u001b[39m\u001b[38;5;130;01m\\\\\u001b[39;00m\u001b[38;5;130;01m\\\\\u001b[39;00m\n\u001b[0;32m    172\u001b[0m \u001b[38;5;124m        0.015178 & 0.017300 & 0.015003 & 0.033967 & 0.016893 & 0.018864 \u001b[39m\u001b[38;5;130;01m\\\\\u001b[39;00m\u001b[38;5;130;01m\\\\\u001b[39;00m\n\u001b[0;32m    173\u001b[0m \u001b[38;5;124m        0.008784 & 0.015910 & 0.019991 & 0.016893 & 0.022112 & 0.018360 \u001b[39m\u001b[38;5;130;01m\\\\\u001b[39;00m\u001b[38;5;130;01m\\\\\u001b[39;00m\n\u001b[0;32m    174\u001b[0m \u001b[38;5;124m        0.028007 & 0.029440 & 0.029051 & 0.018864 & 0.018360 & 0.036468\u001b[39m\n\u001b[0;32m    175\u001b[0m \u001b[38;5;124m        \u001b[39m\u001b[38;5;130;01m\\\\\u001b[39;00m\u001b[38;5;124mend\u001b[39m\u001b[38;5;130;01m{{\u001b[39;00m\u001b[38;5;124mbmatrix\u001b[39m\u001b[38;5;130;01m}}\u001b[39;00m\n\u001b[0;32m    176\u001b[0m \u001b[38;5;124m        \u001b[39m\u001b[38;5;130;01m\\\\\u001b[39;00m\u001b[38;5;124m]\u001b[39m\n\u001b[0;32m    177\u001b[0m \u001b[38;5;124m        </div>\u001b[39m\n\u001b[0;32m    178\u001b[0m \u001b[38;5;124m        <p>The <strong>initial guess weights (\u001b[39m\u001b[38;5;124m\\\u001b[39m\u001b[38;5;124m( w^0 \u001b[39m\u001b[38;5;124m\\\u001b[39m\u001b[38;5;124m))</strong> are equally allocated across sectors:</p>\u001b[39m\n\u001b[0;32m    179\u001b[0m \u001b[38;5;124m        <div class=\u001b[39m\u001b[38;5;124m\"\u001b[39m\u001b[38;5;124mequation\u001b[39m\u001b[38;5;124m\"\u001b[39m\u001b[38;5;124m>\u001b[39m\n\u001b[0;32m    180\u001b[0m \u001b[38;5;124m            \u001b[39m\u001b[38;5;130;01m\\\\\u001b[39;00m\u001b[38;5;124m[\u001b[39m\n\u001b[0;32m    181\u001b[0m \u001b[38;5;124m            w^0 = \u001b[39m\u001b[38;5;130;01m\\\\\u001b[39;00m\u001b[38;5;124mbegin\u001b[39m\u001b[38;5;130;01m{{\u001b[39;00m\u001b[38;5;124mbmatrix\u001b[39m\u001b[38;5;130;01m}}\u001b[39;00m\u001b[38;5;124m 0.0833 & 0.0833 & 0.0833 & 0.0833 & 0.0833 & 0.0833 \u001b[39m\u001b[38;5;130;01m\\\\\u001b[39;00m\u001b[38;5;124mend\u001b[39m\u001b[38;5;130;01m{{\u001b[39;00m\u001b[38;5;124mbmatrix\u001b[39m\u001b[38;5;130;01m}}\u001b[39;00m\n\u001b[0;32m    182\u001b[0m \u001b[38;5;124m            \u001b[39m\u001b[38;5;130;01m\\\\\u001b[39;00m\u001b[38;5;124m]\u001b[39m\n\u001b[0;32m    183\u001b[0m \u001b[38;5;124m        </div>\u001b[39m\n\u001b[0;32m    184\u001b[0m \n\u001b[0;32m    185\u001b[0m \u001b[38;5;124m        <h3>Step 1: Multiply \u001b[39m\u001b[38;5;124m\\\u001b[39m\u001b[38;5;124m( \u001b[39m\u001b[38;5;130;01m\\\\\u001b[39;00m\u001b[38;5;124mSigma \u001b[39m\u001b[38;5;124m\\\u001b[39m\u001b[38;5;124m) by the Initial Weights \u001b[39m\u001b[38;5;124m\\\u001b[39m\u001b[38;5;124m( w^0 \u001b[39m\u001b[38;5;124m\\\u001b[39m\u001b[38;5;124m)</h3>\u001b[39m\n\u001b[0;32m    186\u001b[0m \u001b[38;5;124m        <p>We calculate \u001b[39m\u001b[38;5;124m\\\u001b[39m\u001b[38;5;124m( \u001b[39m\u001b[38;5;130;01m\\\\\u001b[39;00m\u001b[38;5;124mSigma w^0 \u001b[39m\u001b[38;5;124m\\\u001b[39m\u001b[38;5;124m) as follows:</p>\u001b[39m\n\u001b[0;32m    187\u001b[0m \u001b[38;5;124m        <div class=\u001b[39m\u001b[38;5;124m\"\u001b[39m\u001b[38;5;124mequation\u001b[39m\u001b[38;5;124m\"\u001b[39m\u001b[38;5;124m>\u001b[39m\n\u001b[0;32m    188\u001b[0m \u001b[38;5;124m            \u001b[39m\u001b[38;5;130;01m\\\\\u001b[39;00m\u001b[38;5;124m[\u001b[39m\n\u001b[0;32m    189\u001b[0m \u001b[38;5;124m            (\u001b[39m\u001b[38;5;130;01m\\\\\u001b[39;00m\u001b[38;5;124mSigma w^0)_i = \u001b[39m\u001b[38;5;130;01m\\\\\u001b[39;00m\u001b[38;5;124msum_\u001b[39m\u001b[38;5;130;01m{{\u001b[39;00m\u001b[38;5;124mj=1\u001b[39m\u001b[38;5;130;01m}}\u001b[39;00m\u001b[38;5;124m^6 \u001b[39m\u001b[38;5;130;01m\\\\\u001b[39;00m\u001b[38;5;124mSigma_\u001b[39m\u001b[38;5;130;01m{{\u001b[39;00m\u001b[38;5;124mi,j\u001b[39m\u001b[38;5;130;01m}}\u001b[39;00m\u001b[38;5;124m \u001b[39m\u001b[38;5;130;01m\\\\\u001b[39;00m\u001b[38;5;124mcdot w_j\u001b[39m\n\u001b[0;32m    190\u001b[0m \u001b[38;5;124m            \u001b[39m\u001b[38;5;130;01m\\\\\u001b[39;00m\u001b[38;5;124m]\u001b[39m\n\u001b[0;32m    191\u001b[0m \u001b[38;5;124m        </div>\u001b[39m\n\u001b[0;32m    192\u001b[0m \u001b[38;5;124m        <p>Substituting values for the first row:</p>\u001b[39m\n\u001b[0;32m    193\u001b[0m \u001b[38;5;124m        <div class=\u001b[39m\u001b[38;5;124m\"\u001b[39m\u001b[38;5;124mequation\u001b[39m\u001b[38;5;124m\"\u001b[39m\u001b[38;5;124m>\u001b[39m\n\u001b[0;32m    194\u001b[0m \u001b[38;5;124m            \u001b[39m\u001b[38;5;130;01m\\\\\u001b[39;00m\u001b[38;5;124m[\u001b[39m\n\u001b[0;32m    195\u001b[0m \u001b[38;5;124m            (\u001b[39m\u001b[38;5;130;01m\\\\\u001b[39;00m\u001b[38;5;124mSigma w^0)_1 = (0.089618 \u001b[39m\u001b[38;5;130;01m\\\\\u001b[39;00m\u001b[38;5;124mcdot 0.0833) + (0.025347 \u001b[39m\u001b[38;5;130;01m\\\\\u001b[39;00m\u001b[38;5;124mcdot 0.0833) + \u001b[39m\u001b[38;5;130;01m\\\\\u001b[39;00m\u001b[38;5;124mdots = 0.015\u001b[39m\n\u001b[0;32m    196\u001b[0m \u001b[38;5;124m            \u001b[39m\u001b[38;5;130;01m\\\\\u001b[39;00m\u001b[38;5;124m]\u001b[39m\n\u001b[0;32m    197\u001b[0m \u001b[38;5;124m        </div>\u001b[39m\n\u001b[0;32m    198\u001b[0m \u001b[38;5;124m        <p>This calculation is repeated for all rows, resulting in the vector:</p>\u001b[39m\n\u001b[0;32m    199\u001b[0m \u001b[38;5;124m        <div class=\u001b[39m\u001b[38;5;124m\"\u001b[39m\u001b[38;5;124mequation\u001b[39m\u001b[38;5;124m\"\u001b[39m\u001b[38;5;124m>\u001b[39m\n\u001b[0;32m    200\u001b[0m \u001b[38;5;124m            \u001b[39m\u001b[38;5;130;01m\\\\\u001b[39;00m\u001b[38;5;124m[\u001b[39m\n\u001b[0;32m    201\u001b[0m \u001b[38;5;124m            \u001b[39m\u001b[38;5;130;01m\\\\\u001b[39;00m\u001b[38;5;124mSigma w^0 = \u001b[39m\u001b[38;5;130;01m\\\\\u001b[39;00m\u001b[38;5;124mbegin\u001b[39m\u001b[38;5;130;01m{{\u001b[39;00m\u001b[38;5;124mbmatrix\u001b[39m\u001b[38;5;130;01m}}\u001b[39;00m\u001b[38;5;124m 0.0148 & 0.0123 & 0.0130 & 0.0098 & 0.0085 & 0.0133 \u001b[39m\u001b[38;5;130;01m\\\\\u001b[39;00m\u001b[38;5;124mend\u001b[39m\u001b[38;5;130;01m{{\u001b[39;00m\u001b[38;5;124mbmatrix\u001b[39m\u001b[38;5;130;01m}}\u001b[39;00m\n\u001b[0;32m    202\u001b[0m \u001b[38;5;124m            \u001b[39m\u001b[38;5;130;01m\\\\\u001b[39;00m\u001b[38;5;124m]\u001b[39m\n\u001b[0;32m    203\u001b[0m \u001b[38;5;124m        </div>\u001b[39m\n\u001b[0;32m    204\u001b[0m \n\u001b[0;32m    205\u001b[0m \u001b[38;5;124m        <h3>Step 2: Calculate the Ex Ante Active Risk</h3>\u001b[39m\n\u001b[0;32m    206\u001b[0m \u001b[38;5;124m        <p>The total Ex Ante Active Risk (used interchangeably with Ex Ante Tracking Error) is calculated as:</p>\u001b[39m\n\u001b[0;32m    207\u001b[0m \u001b[38;5;124m        <div class=\u001b[39m\u001b[38;5;124m\"\u001b[39m\u001b[38;5;124mequation\u001b[39m\u001b[38;5;124m\"\u001b[39m\u001b[38;5;124m>\u001b[39m\n\u001b[0;32m    208\u001b[0m \u001b[38;5;124m            \u001b[39m\u001b[38;5;130;01m\\\\\u001b[39;00m\u001b[38;5;124m[\u001b[39m\n\u001b[0;32m    209\u001b[0m \u001b[38;5;124m            \u001b[39m\u001b[38;5;130;01m\\\\\u001b[39;00m\u001b[38;5;124mtext\u001b[39m\u001b[38;5;130;01m{{\u001b[39;00m\u001b[38;5;124mEx Ante Active Risk (or Tracking Error)\u001b[39m\u001b[38;5;130;01m}}\u001b[39;00m\u001b[38;5;124m = \u001b[39m\u001b[38;5;130;01m\\\\\u001b[39;00m\u001b[38;5;124msqrt\u001b[39m\u001b[38;5;130;01m{{\u001b[39;00m\u001b[38;5;124mw^T \u001b[39m\u001b[38;5;130;01m\\\\\u001b[39;00m\u001b[38;5;124mSigma w\u001b[39m\u001b[38;5;130;01m}}\u001b[39;00m\n\u001b[0;32m    210\u001b[0m \u001b[38;5;124m            \u001b[39m\u001b[38;5;130;01m\\\\\u001b[39;00m\u001b[38;5;124m]\u001b[39m\n\u001b[0;32m    211\u001b[0m \u001b[38;5;124m        </div>\u001b[39m\n\u001b[0;32m    212\u001b[0m \u001b[38;5;124m        <p>Substituting the values:</p>\u001b[39m\n\u001b[0;32m    213\u001b[0m \u001b[38;5;124m        <div class=\u001b[39m\u001b[38;5;124m\"\u001b[39m\u001b[38;5;124mequation\u001b[39m\u001b[38;5;124m\"\u001b[39m\u001b[38;5;124m>\u001b[39m\n\u001b[0;32m    214\u001b[0m \u001b[38;5;124m            \u001b[39m\u001b[38;5;130;01m\\\\\u001b[39;00m\u001b[38;5;124m[\u001b[39m\n\u001b[0;32m    215\u001b[0m \u001b[38;5;124m            w^T \u001b[39m\u001b[38;5;130;01m\\\\\u001b[39;00m\u001b[38;5;124mSigma w = (0.0833 \u001b[39m\u001b[38;5;130;01m\\\\\u001b[39;00m\u001b[38;5;124mcdot 0.015) + (0.0833 \u001b[39m\u001b[38;5;130;01m\\\\\u001b[39;00m\u001b[38;5;124mcdot 0.012) + \u001b[39m\u001b[38;5;130;01m\\\\\u001b[39;00m\u001b[38;5;124mdots = 0.00598\u001b[39m\n\u001b[0;32m    216\u001b[0m \u001b[38;5;124m            \u001b[39m\u001b[38;5;130;01m\\\\\u001b[39;00m\u001b[38;5;124m]\u001b[39m\n\u001b[0;32m    217\u001b[0m \u001b[38;5;124m            \u001b[39m\u001b[38;5;130;01m\\\\\u001b[39;00m\u001b[38;5;124m[\u001b[39m\n\u001b[0;32m    218\u001b[0m \u001b[38;5;124m            \u001b[39m\u001b[38;5;130;01m\\\\\u001b[39;00m\u001b[38;5;124mtext\u001b[39m\u001b[38;5;130;01m{{\u001b[39;00m\u001b[38;5;124mEx Ante Active Risk\u001b[39m\u001b[38;5;130;01m}}\u001b[39;00m\u001b[38;5;124m = \u001b[39m\u001b[38;5;130;01m\\\\\u001b[39;00m\u001b[38;5;124msqrt\u001b[39m\u001b[38;5;130;01m{{\u001b[39;00m\u001b[38;5;124m0.00598\u001b[39m\u001b[38;5;130;01m}}\u001b[39;00m\u001b[38;5;124m = 0.0773\u001b[39m\n\u001b[0;32m    219\u001b[0m \u001b[38;5;124m            \u001b[39m\u001b[38;5;130;01m\\\\\u001b[39;00m\u001b[38;5;124m]\u001b[39m\n\u001b[0;32m    220\u001b[0m \u001b[38;5;124m        </div>\u001b[39m\n\u001b[0;32m    221\u001b[0m \n\u001b[0;32m    222\u001b[0m \u001b[38;5;124m        <h3>Step 3: Divide \u001b[39m\u001b[38;5;124m\\\u001b[39m\u001b[38;5;124m( \u001b[39m\u001b[38;5;130;01m\\\\\u001b[39;00m\u001b[38;5;124mSigma w \u001b[39m\u001b[38;5;124m\\\u001b[39m\u001b[38;5;124m) by the Ex Ante Active Risk</h3>\u001b[39m\n\u001b[0;32m    223\u001b[0m \u001b[38;5;124m        <p>The gradient \u001b[39m\u001b[38;5;124m\\\u001b[39m\u001b[38;5;124m( \u001b[39m\u001b[38;5;130;01m\\\\\u001b[39;00m\u001b[38;5;124mnabla f(w) \u001b[39m\u001b[38;5;124m\\\u001b[39m\u001b[38;5;124m) is calculated as:</p>\u001b[39m\n\u001b[0;32m    224\u001b[0m \u001b[38;5;124m        <div class=\u001b[39m\u001b[38;5;124m\"\u001b[39m\u001b[38;5;124mequation\u001b[39m\u001b[38;5;124m\"\u001b[39m\u001b[38;5;124m>\u001b[39m\n\u001b[0;32m    225\u001b[0m \u001b[38;5;124m            \u001b[39m\u001b[38;5;130;01m\\\\\u001b[39;00m\u001b[38;5;124m[\u001b[39m\n\u001b[0;32m    226\u001b[0m \u001b[38;5;124m            \u001b[39m\u001b[38;5;130;01m\\\\\u001b[39;00m\u001b[38;5;124mnabla f(w) = \u001b[39m\u001b[38;5;130;01m\\\\\u001b[39;00m\u001b[38;5;124mfrac\u001b[39m\u001b[38;5;130;01m{{\u001b[39;00m\u001b[38;5;130;01m\\\\\u001b[39;00m\u001b[38;5;124mSigma w\u001b[39m\u001b[38;5;130;01m}}\u001b[39;00m\u001b[38;5;130;01m{{\u001b[39;00m\u001b[38;5;130;01m\\\\\u001b[39;00m\u001b[38;5;124mtext\u001b[39m\u001b[38;5;130;01m{{\u001b[39;00m\u001b[38;5;124mEx Ante Active Risk\u001b[39m\u001b[38;5;130;01m}}\u001b[39;00m\u001b[38;5;130;01m}}\u001b[39;00m\n\u001b[0;32m    227\u001b[0m \u001b[38;5;124m            \u001b[39m\u001b[38;5;130;01m\\\\\u001b[39;00m\u001b[38;5;124m]\u001b[39m\n\u001b[0;32m    228\u001b[0m \u001b[38;5;124m        </div>\u001b[39m\n\u001b[0;32m    229\u001b[0m \u001b[38;5;124m        <p>Substituting the values:</p>\u001b[39m\n\u001b[0;32m    230\u001b[0m \u001b[38;5;124m        <div class=\u001b[39m\u001b[38;5;124m\"\u001b[39m\u001b[38;5;124mequation\u001b[39m\u001b[38;5;124m\"\u001b[39m\u001b[38;5;124m>\u001b[39m\n\u001b[0;32m    231\u001b[0m \u001b[38;5;124m            \u001b[39m\u001b[38;5;130;01m\\\\\u001b[39;00m\u001b[38;5;124m[\u001b[39m\n\u001b[0;32m    232\u001b[0m \u001b[38;5;124m            \u001b[39m\u001b[38;5;130;01m\\\\\u001b[39;00m\u001b[38;5;124mnabla f(w) = \u001b[39m\u001b[38;5;130;01m\\\\\u001b[39;00m\u001b[38;5;124mbegin\u001b[39m\u001b[38;5;130;01m{{\u001b[39;00m\u001b[38;5;124mbmatrix\u001b[39m\u001b[38;5;130;01m}}\u001b[39;00m\n\u001b[0;32m    233\u001b[0m \u001b[38;5;124m            \u001b[39m\u001b[38;5;130;01m\\\\\u001b[39;00m\u001b[38;5;124mfrac\u001b[39m\u001b[38;5;130;01m{{\u001b[39;00m\u001b[38;5;124m0.015\u001b[39m\u001b[38;5;130;01m}}\u001b[39;00m\u001b[38;5;130;01m{{\u001b[39;00m\u001b[38;5;124m0.077\u001b[39m\u001b[38;5;130;01m}}\u001b[39;00m\u001b[38;5;124m & \u001b[39m\u001b[38;5;130;01m\\\\\u001b[39;00m\u001b[38;5;124mfrac\u001b[39m\u001b[38;5;130;01m{{\u001b[39;00m\u001b[38;5;124m0.012\u001b[39m\u001b[38;5;130;01m}}\u001b[39;00m\u001b[38;5;130;01m{{\u001b[39;00m\u001b[38;5;124m0.077\u001b[39m\u001b[38;5;130;01m}}\u001b[39;00m\u001b[38;5;124m & \u001b[39m\u001b[38;5;130;01m\\\\\u001b[39;00m\u001b[38;5;124mfrac\u001b[39m\u001b[38;5;130;01m{{\u001b[39;00m\u001b[38;5;124m0.013\u001b[39m\u001b[38;5;130;01m}}\u001b[39;00m\u001b[38;5;130;01m{{\u001b[39;00m\u001b[38;5;124m0.077\u001b[39m\u001b[38;5;130;01m}}\u001b[39;00m\u001b[38;5;124m & \u001b[39m\u001b[38;5;130;01m\\\\\u001b[39;00m\u001b[38;5;124mfrac\u001b[39m\u001b[38;5;130;01m{{\u001b[39;00m\u001b[38;5;124m0.0098\u001b[39m\u001b[38;5;130;01m}}\u001b[39;00m\u001b[38;5;130;01m{{\u001b[39;00m\u001b[38;5;124m0.077\u001b[39m\u001b[38;5;130;01m}}\u001b[39;00m\u001b[38;5;124m & \u001b[39m\u001b[38;5;130;01m\\\\\u001b[39;00m\u001b[38;5;124mfrac\u001b[39m\u001b[38;5;130;01m{{\u001b[39;00m\u001b[38;5;124m0.0085\u001b[39m\u001b[38;5;130;01m}}\u001b[39;00m\u001b[38;5;130;01m{{\u001b[39;00m\u001b[38;5;124m0.077\u001b[39m\u001b[38;5;130;01m}}\u001b[39;00m\u001b[38;5;124m & \u001b[39m\u001b[38;5;130;01m\\\\\u001b[39;00m\u001b[38;5;124mfrac\u001b[39m\u001b[38;5;130;01m{{\u001b[39;00m\u001b[38;5;124m0.0085\u001b[39m\u001b[38;5;130;01m}}\u001b[39;00m\u001b[38;5;130;01m{{\u001b[39;00m\u001b[38;5;124m0.077\u001b[39m\u001b[38;5;130;01m}}\u001b[39;00m\n\u001b[0;32m    234\u001b[0m \u001b[38;5;124m            \u001b[39m\u001b[38;5;130;01m\\\\\u001b[39;00m\u001b[38;5;124mend\u001b[39m\u001b[38;5;130;01m{{\u001b[39;00m\u001b[38;5;124mbmatrix\u001b[39m\u001b[38;5;130;01m}}\u001b[39;00m\n\u001b[0;32m    235\u001b[0m \u001b[38;5;124m            \u001b[39m\u001b[38;5;130;01m\\\\\u001b[39;00m\u001b[38;5;124m]\u001b[39m\n\u001b[0;32m    236\u001b[0m \u001b[38;5;124m            \u001b[39m\u001b[38;5;130;01m\\\\\u001b[39;00m\u001b[38;5;124m[\u001b[39m\n\u001b[0;32m    237\u001b[0m \u001b[38;5;124m            \u001b[39m\u001b[38;5;130;01m\\\\\u001b[39;00m\u001b[38;5;124mnabla f(w) = \u001b[39m\u001b[38;5;130;01m\\\\\u001b[39;00m\u001b[38;5;124mbegin\u001b[39m\u001b[38;5;130;01m{{\u001b[39;00m\u001b[38;5;124mbmatrix\u001b[39m\u001b[38;5;130;01m}}\u001b[39;00m\u001b[38;5;124m 0.191 & 0.159 & 0.168 & 0.126 & 0.110 & 0.173 \u001b[39m\u001b[38;5;130;01m\\\\\u001b[39;00m\u001b[38;5;124mend\u001b[39m\u001b[38;5;130;01m{{\u001b[39;00m\u001b[38;5;124mbmatrix\u001b[39m\u001b[38;5;130;01m}}\u001b[39;00m\n\u001b[0;32m    238\u001b[0m \u001b[38;5;124m            \u001b[39m\u001b[38;5;130;01m\\\\\u001b[39;00m\u001b[38;5;124m]\u001b[39m\n\u001b[0;32m    239\u001b[0m \u001b[38;5;124m        </div>\u001b[39m\n\u001b[0;32m    240\u001b[0m \n\u001b[0;32m    241\u001b[0m \u001b[38;5;124m        <h3>Step 4: Step Size and Direction</h3>\u001b[39m\n\u001b[0;32m    242\u001b[0m \u001b[38;5;124m        <p>\u001b[39m\n\u001b[0;32m    243\u001b[0m \u001b[38;5;124m            The step size \u001b[39m\u001b[38;5;124m\\\u001b[39m\u001b[38;5;124m( \u001b[39m\u001b[38;5;130;01m\\\\\u001b[39;00m\u001b[38;5;124malpha \u001b[39m\u001b[38;5;124m\\\u001b[39m\u001b[38;5;124m) is determined using a line search method, which minimizes the objective function along the calculated gradient direction. \u001b[39m\u001b[38;5;124m\\\u001b[39m\u001b[38;5;124m( \u001b[39m\u001b[38;5;130;01m\\\\\u001b[39;00m\u001b[38;5;124malpha \u001b[39m\u001b[38;5;124m\\\u001b[39m\u001b[38;5;124m) represents the \u001b[39m\u001b[38;5;124m'\u001b[39m\u001b[38;5;124mmagnitude\u001b[39m\u001b[38;5;124m'\u001b[39m\u001b[38;5;124m of the step and is calculated iteratively such that constraints are not violated. The algorithm assumes a large \u001b[39m\u001b[38;5;124m\\\u001b[39m\u001b[38;5;124m( \u001b[39m\u001b[38;5;130;01m\\\\\u001b[39;00m\u001b[38;5;124malpha \u001b[39m\u001b[38;5;124m\\\u001b[39m\u001b[38;5;124m) initially and incrementally decreases its value by very small steps until no constraints are violated.\u001b[39m\n\u001b[0;32m    244\u001b[0m \u001b[38;5;124m            If the maximum size \u001b[39m\u001b[38;5;124m\\\u001b[39m\u001b[38;5;124m( \u001b[39m\u001b[38;5;130;01m\\\\\u001b[39;00m\u001b[38;5;124malpha \u001b[39m\u001b[38;5;124m\\\u001b[39m\u001b[38;5;124m)  can be is very small the optimization process terminates.\u001b[39m\n\u001b[0;32m    245\u001b[0m \u001b[38;5;124m        </p>\u001b[39m\n\u001b[0;32m    246\u001b[0m \u001b[38;5;124m        <p>The updated weights are computed as:</p>\u001b[39m\n\u001b[0;32m    247\u001b[0m \u001b[38;5;124m        <div class=\u001b[39m\u001b[38;5;124m\"\u001b[39m\u001b[38;5;124mequation\u001b[39m\u001b[38;5;124m\"\u001b[39m\u001b[38;5;124m>\u001b[39m\n\u001b[0;32m    248\u001b[0m \u001b[38;5;124m            \u001b[39m\u001b[38;5;130;01m\\\\\u001b[39;00m\u001b[38;5;124m[\u001b[39m\n\u001b[0;32m    249\u001b[0m \u001b[38;5;124m            w^\u001b[39m\u001b[38;5;130;01m{{\u001b[39;00m\u001b[38;5;124mt+1\u001b[39m\u001b[38;5;130;01m}}\u001b[39;00m\u001b[38;5;124m = w^t - \u001b[39m\u001b[38;5;130;01m\\\\\u001b[39;00m\u001b[38;5;124malpha \u001b[39m\u001b[38;5;130;01m\\\\\u001b[39;00m\u001b[38;5;124mnabla f(w)\u001b[39m\n\u001b[0;32m    250\u001b[0m \u001b[38;5;124m            \u001b[39m\u001b[38;5;130;01m\\\\\u001b[39;00m\u001b[38;5;124m]\u001b[39m\n\u001b[0;32m    251\u001b[0m \u001b[38;5;124m        </div>\u001b[39m\n\u001b[0;32m    252\u001b[0m \u001b[38;5;124m        <p>For example, in the first iteration of the \u001b[39m\u001b[38;5;124m'\u001b[39m\u001b[38;5;124mwith shorts\u001b[39m\u001b[38;5;124m'\u001b[39m\u001b[38;5;124m optimization \u001b[39m\u001b[38;5;124m\\\u001b[39m\u001b[38;5;124m( \u001b[39m\u001b[38;5;130;01m\\\\\u001b[39;00m\u001b[38;5;124malpha = 0.4345 \u001b[39m\u001b[38;5;124m\\\u001b[39m\u001b[38;5;124m), the updated weights would be:</p>\u001b[39m\n\u001b[0;32m    253\u001b[0m \u001b[38;5;124m        <div class=\u001b[39m\u001b[38;5;124m\"\u001b[39m\u001b[38;5;124mequation\u001b[39m\u001b[38;5;124m\"\u001b[39m\u001b[38;5;124m>\u001b[39m\n\u001b[0;32m    254\u001b[0m \u001b[38;5;124m            \u001b[39m\u001b[38;5;130;01m\\\\\u001b[39;00m\u001b[38;5;124m[\u001b[39m\n\u001b[0;32m    255\u001b[0m \u001b[38;5;124m            w^\u001b[39m\u001b[38;5;130;01m{{\u001b[39;00m\u001b[38;5;124mt+1\u001b[39m\u001b[38;5;130;01m}}\u001b[39;00m\u001b[38;5;124m = \u001b[39m\u001b[38;5;130;01m\\\\\u001b[39;00m\u001b[38;5;124mbegin\u001b[39m\u001b[38;5;130;01m{{\u001b[39;00m\u001b[38;5;124mbmatrix\u001b[39m\u001b[38;5;130;01m}}\u001b[39;00m\u001b[38;5;124m 0.0833 & 0.0833 & \u001b[39m\u001b[38;5;130;01m\\\\\u001b[39;00m\u001b[38;5;124mdots \u001b[39m\u001b[38;5;130;01m\\\\\u001b[39;00m\u001b[38;5;124mend\u001b[39m\u001b[38;5;130;01m{{\u001b[39;00m\u001b[38;5;124mbmatrix\u001b[39m\u001b[38;5;130;01m}}\u001b[39;00m\u001b[38;5;124m - 0.4345 \u001b[39m\u001b[38;5;130;01m\\\\\u001b[39;00m\u001b[38;5;124mcdot \u001b[39m\u001b[38;5;130;01m\\\\\u001b[39;00m\u001b[38;5;124mbegin\u001b[39m\u001b[38;5;130;01m{{\u001b[39;00m\u001b[38;5;124mbmatrix\u001b[39m\u001b[38;5;130;01m}}\u001b[39;00m\u001b[38;5;124m 0.191 & 0.159 & \u001b[39m\u001b[38;5;130;01m\\\\\u001b[39;00m\u001b[38;5;124mdots \u001b[39m\u001b[38;5;130;01m\\\\\u001b[39;00m\u001b[38;5;124mend\u001b[39m\u001b[38;5;130;01m{{\u001b[39;00m\u001b[38;5;124mbmatrix\u001b[39m\u001b[38;5;130;01m}}\u001b[39;00m\n\u001b[0;32m    256\u001b[0m \u001b[38;5;124m            \u001b[39m\u001b[38;5;130;01m\\\\\u001b[39;00m\u001b[38;5;124m]\u001b[39m\n\u001b[0;32m    257\u001b[0m \u001b[38;5;124m        </div>\u001b[39m\n\u001b[0;32m    258\u001b[0m \u001b[38;5;124m        <p>The weights are subsequently bound to zero and scaled to sum to 0.5, which results in weights for the first iteration being:</p>\u001b[39m\n\u001b[0;32m    259\u001b[0m \u001b[38;5;124m        <div class=\u001b[39m\u001b[38;5;124m\"\u001b[39m\u001b[38;5;124mequation\u001b[39m\u001b[38;5;124m\"\u001b[39m\u001b[38;5;124m>\u001b[39m\n\u001b[0;32m    260\u001b[0m \u001b[38;5;124m            \u001b[39m\u001b[38;5;130;01m\\\\\u001b[39;00m\u001b[38;5;124m[\u001b[39m\n\u001b[0;32m    261\u001b[0m \u001b[38;5;124m            w^\u001b[39m\u001b[38;5;130;01m{{\u001b[39;00m\u001b[38;5;124mt+1\u001b[39m\u001b[38;5;130;01m}}\u001b[39;00m\u001b[38;5;124m = \u001b[39m\u001b[38;5;130;01m\\\\\u001b[39;00m\u001b[38;5;124mbegin\u001b[39m\u001b[38;5;130;01m{{\u001b[39;00m\u001b[38;5;124mbmatrix\u001b[39m\u001b[38;5;130;01m}}\u001b[39;00m\u001b[38;5;124m 0 & 0.0502 & 0.0179 & 0.2008 & 0.2311 & 0 \u001b[39m\u001b[38;5;130;01m\\\\\u001b[39;00m\u001b[38;5;124mend\u001b[39m\u001b[38;5;130;01m{{\u001b[39;00m\u001b[38;5;124mbmatrix\u001b[39m\u001b[38;5;130;01m}}\u001b[39;00m\n\u001b[0;32m    262\u001b[0m \u001b[38;5;124m            \u001b[39m\u001b[38;5;130;01m\\\\\u001b[39;00m\u001b[38;5;124m]\u001b[39m\n\u001b[0;32m    263\u001b[0m \u001b[38;5;124m        </div>\u001b[39m\n\u001b[0;32m    264\u001b[0m \u001b[38;5;124m    </div>\u001b[39m\n\u001b[0;32m    265\u001b[0m \u001b[38;5;124m</html>\u001b[39m\n\u001b[0;32m    266\u001b[0m \u001b[38;5;124m\"\"\"\u001b[39m\n\u001b[0;32m    268\u001b[0m \u001b[38;5;66;03m# Write the file\u001b[39;00m\n\u001b[0;32m    269\u001b[0m \u001b[38;5;28;01mwith\u001b[39;00m \u001b[38;5;28mopen\u001b[39m(\u001b[38;5;124m\"\u001b[39m\u001b[38;5;124moptimization.html\u001b[39m\u001b[38;5;124m\"\u001b[39m, \u001b[38;5;124m\"\u001b[39m\u001b[38;5;124mw\u001b[39m\u001b[38;5;124m\"\u001b[39m) \u001b[38;5;28;01mas\u001b[39;00m file:\n",
      "\u001b[1;31mNameError\u001b[0m: name 'plotly_html' is not defined"
     ]
    }
   ],
   "source": [
    "\n",
    "\n",
    "html_content = f\"\"\"\n",
    "<!DOCTYPE html>\n",
    "<html>\n",
    "<head>\n",
    "    <title>Optimization Visualization</title>\n",
    "    <script src=\"https://cdnjs.cloudflare.com/ajax/libs/mathjax/2.7.7/MathJax.js?config=TeX-AMS_CHTML\"></script>\n",
    "    <style>\n",
    "        body {{\n",
    "            font-family: Arial, sans-serif;\n",
    "            background-color: #f4f4f4;\n",
    "            color: #333;\n",
    "            margin: 0;\n",
    "            padding: 20px;\n",
    "        }}\n",
    "        h1, h2, h3 {{\n",
    "            color: #0078D7;\n",
    "        }}\n",
    "        .content {{\n",
    "            background: white;\n",
    "            padding: 20px;\n",
    "            border-radius: 8px;\n",
    "            box-shadow: 0px 4px 6px rgba(0,0,0,0.1);\n",
    "            margin-bottom: 20px;\n",
    "        }}\n",
    "        p, ul {{\n",
    "            line-height: 1.6;\n",
    "        }}\n",
    "        ul {{\n",
    "            padding-left: 20px;\n",
    "        }}\n",
    "        .equation {{\n",
    "            text-align: center;\n",
    "            margin: 10px 0;\n",
    "        }}\n",
    "    </style>\n",
    "</head>\n",
    "<body>\n",
    "    <div class=\"content\">\n",
    "        <h1>Mathematical Explanation of the Risk Distribution Optimization</h1>\n",
    "\n",
    "        <h2>Ex Ante Active Risk</h2>\n",
    "        <p>\n",
    "            The <strong>Ex Ante Active Risk</strong> (used interchangeably with Ex Ante Tracking Error) measures the portfolio's <strong>expected</strong>  deviation from the benchmark. It is defined as:\n",
    "        </p>\n",
    "        <div class=\"equation\">\n",
    "            \\\\[\n",
    "            \\\\text{{Ex Ante Tracking Error}} = \\\\sqrt{{(w - w_b)^T \\\\Sigma (w - w_b)}}\n",
    "            \\\\]\n",
    "        </div>\n",
    "        <p>Where:</p>\n",
    "        <ul>\n",
    "            <li><strong>\\( w \\)</strong>: Portfolio weights</li>\n",
    "            <li><strong>\\( w_b \\)</strong>: Benchmark weights</li>\n",
    "            <li><strong>\\( \\\\Sigma \\)</strong>: Covariance matrix of sector returns</li>\n",
    "            <li><strong>\\( (w - w_b) \\)</strong>: Active weights (portfolio weights minus benchmark weights)</li>\n",
    "        </ul>\n",
    "\n",
    "        <h2>Marginal Risk Contribution</h2>\n",
    "        <p>\n",
    "            The <strong>Marginal Risk Contribution</strong> represents the sensitivity of the portfolio's active risk to a small change in active weight in sector \\( i \\). It is calculated as:\n",
    "        </p>\n",
    "        <div class=\"equation\">\n",
    "            \\\\[\n",
    "            \\\\text{{Marginal Risk Contribution}}_i = \\\\frac{{\\\\partial \\\\text{{Ex Ante Active Risk}}}}{{\\\\partial w_i}} = \\\\frac{{\\\\Sigma w}}{{\\\\text{{Ex Ante Tracking Error}}}}\n",
    "            \\\\]\n",
    "        </div>\n",
    "\n",
    "        <h2>Ex Ante Active Risk Contribution</h2>\n",
    "        <p>\n",
    "            The <strong>Ex Ante Active Risk Contribution</strong> quantifies the risk contributed by each sector to the total Ex Ante active risk. It is calculated as:\n",
    "        </p>\n",
    "        <div class=\"equation\">\n",
    "            \\\\[\n",
    "            \\\\text{{Ex Ante Active Risk Contribution}}_i = \\\\frac{{\\\\partial \\\\text{{Ex Ante Active Risk}}}}{{\\\\partial w_i}} \\\\cdot w_i\n",
    "            \\\\]\n",
    "        </div>\n",
    "\n",
    "        <h2>Objective Function: Minimize Standard Deviation of Ex Ante Active Risk Contributions</h2>\n",
    "        <p>\n",
    "            The optimization minimizes the standard deviation of the Ex Ante active risk contributions:\n",
    "        </p>\n",
    "        <div class=\"equation\">\n",
    "            \\\\[\n",
    "            \\\\text{{Objective}} = \\\\text{{MIN std}}(\\\\text{{Ex Ante Active Risk Contributions}})\n",
    "            \\\\]\n",
    "        </div>\n",
    "\n",
    "        <h2>Constraints</h2>\n",
    "        <ul>\n",
    "            <li>\n",
    "                <strong>Active Share Constraint:</strong><br>\n",
    "                The portfolio must deviate from the benchmark by a specified active share target \\( k \\) - in our case we set this at 0.5:\n",
    "                <div class=\"equation\">\n",
    "                    \\\\[\n",
    "                    \\\\text{{Active Share}} = \\\\frac{{1}}{{2}} \\\\sum_{{i=1}}^N |w_i - w_{{b,i}}| = k\n",
    "                    \\\\]\n",
    "                </div>\n",
    "            </li>\n",
    "            <li>\n",
    "                <strong>No Short Constraint:</strong><br>\n",
    "                Portfolio weights cannot be negative:\n",
    "                <div class=\"equation\">\n",
    "                    \\\\[\n",
    "                    w_i \\\\geq 0, \\\\quad \\\\forall i\n",
    "                    \\\\]\n",
    "                </div>\n",
    "            </li>\n",
    "            <li>\n",
    "                <strong>Weight Sum Constraint:</strong><br>\n",
    "                The total sum of weights equals the active share target \\( k \\):\n",
    "                <div class=\"equation\">\n",
    "                    \\\\[\n",
    "                    \\\\sum_{{i=1}}^N w_i = k\n",
    "                    \\\\]\n",
    "                </div>\n",
    "            </li>\n",
    "        </ul>\n",
    "    </div>\n",
    "\n",
    "    <div class=\"content\">\n",
    "        <h2>How SLSQP Optimization Works</h2>\n",
    "        <p>\n",
    "            The Sequential Least Squares Quadratic Programming (SLSQP) algorithm solves the constrained optimization problem iteratively. \n",
    "            The key steps include:\n",
    "        </p>\n",
    "        <ul>\n",
    "            <li>\n",
    "                <strong>Gradient Calculation:</strong> The gradient of the objective function with respect to the sector weights \\( w \\) \n",
    "                is computed at each iteration.\n",
    "            </li>\n",
    "            <li>\n",
    "                <strong>Constraint Satisfaction:</strong> The algorithm adjusts the sector weights to satisfy all constraints, \n",
    "                including the active share and no short constraints.\n",
    "            </li>\n",
    "            <li>\n",
    "                <strong>Step Direction:</strong> Based on the gradient, SLSQP determines the optimal step direction that minimizes \n",
    "                the objective function while respecting the constraints.\n",
    "            </li>\n",
    "            <li>\n",
    "                <strong>Convergence:</strong> The algorithm iterates until the change in the objective function or weights is sufficiently small (think 1e-6).\n",
    "            </li>\n",
    "        </ul>\n",
    "    </div>\n",
    "    </div>\n",
    "\n",
    "    <div class=\"content\">\n",
    "        <h2>Example of SLSQP Optimization</h2>\n",
    "        <p>Below examples are the actual optimizations as of <strong>November 29th 2024</strong>. Iteration 1 represtents the starting position of the optimization and the last iteration is the final solution to the problem. You can use  the sliders to see the progression on how the optimization finds the solution</p>\n",
    "        <p>The following shows an optimization with <strong>no-short constraint</strong>:</p>\n",
    "        {plotly_html}\n",
    "        <p>The following shows the same optimization <strong>allowing short positions</strong>:</p>\n",
    "        {plotly_html_short}\n",
    "        <p>Another One</p>\n",
    "        {html_content}\n",
    "    </div>\n",
    "\n",
    "    <div class=\"content\">\n",
    "        <h2>Numerical Example of Gradient Calculation and Step Size</h2>\n",
    "        <p>\n",
    "            To illustrate how the gradient is calculated and the step size is determined in the SLSQP algorithm, we use the following:\n",
    "        </p>\n",
    "        <ul>\n",
    "            <li><strong>Covariance Matrix (\\( \\\\Sigma \\))</strong> (as calculated over last 3 years):</li>\n",
    "        </ul>\n",
    "        <div class=\"equation\">\n",
    "        \\\\[\n",
    "        \\\\Sigma = \n",
    "        \\\\begin{{bmatrix}}\n",
    "        0.089618 & 0.025347 & 0.011072 & 0.015178 & 0.008784 & 0.028007 \\\\\\\\\n",
    "        0.025347 & 0.030405 & 0.029316 & 0.017300 & 0.015910 & 0.029440 \\\\\\\\\n",
    "        0.011072 & 0.029316 & 0.051999 & 0.015003 & 0.019991 & 0.029051 \\\\\\\\\n",
    "        0.015178 & 0.017300 & 0.015003 & 0.033967 & 0.016893 & 0.018864 \\\\\\\\\n",
    "        0.008784 & 0.015910 & 0.019991 & 0.016893 & 0.022112 & 0.018360 \\\\\\\\\n",
    "        0.028007 & 0.029440 & 0.029051 & 0.018864 & 0.018360 & 0.036468\n",
    "        \\\\end{{bmatrix}}\n",
    "        \\\\]\n",
    "        </div>\n",
    "        <p>The <strong>initial guess weights (\\( w^0 \\))</strong> are equally allocated across sectors:</p>\n",
    "        <div class=\"equation\">\n",
    "            \\\\[\n",
    "            w^0 = \\\\begin{{bmatrix}} 0.0833 & 0.0833 & 0.0833 & 0.0833 & 0.0833 & 0.0833 \\\\end{{bmatrix}}\n",
    "            \\\\]\n",
    "        </div>\n",
    "\n",
    "        <h3>Step 1: Multiply \\( \\\\Sigma \\) by the Initial Weights \\( w^0 \\)</h3>\n",
    "        <p>We calculate \\( \\\\Sigma w^0 \\) as follows:</p>\n",
    "        <div class=\"equation\">\n",
    "            \\\\[\n",
    "            (\\\\Sigma w^0)_i = \\\\sum_{{j=1}}^6 \\\\Sigma_{{i,j}} \\\\cdot w_j\n",
    "            \\\\]\n",
    "        </div>\n",
    "        <p>Substituting values for the first row:</p>\n",
    "        <div class=\"equation\">\n",
    "            \\\\[\n",
    "            (\\\\Sigma w^0)_1 = (0.089618 \\\\cdot 0.0833) + (0.025347 \\\\cdot 0.0833) + \\\\dots = 0.015\n",
    "            \\\\]\n",
    "        </div>\n",
    "        <p>This calculation is repeated for all rows, resulting in the vector:</p>\n",
    "        <div class=\"equation\">\n",
    "            \\\\[\n",
    "            \\\\Sigma w^0 = \\\\begin{{bmatrix}} 0.0148 & 0.0123 & 0.0130 & 0.0098 & 0.0085 & 0.0133 \\\\end{{bmatrix}}\n",
    "            \\\\]\n",
    "        </div>\n",
    "\n",
    "        <h3>Step 2: Calculate the Ex Ante Active Risk</h3>\n",
    "        <p>The total Ex Ante Active Risk (used interchangeably with Ex Ante Tracking Error) is calculated as:</p>\n",
    "        <div class=\"equation\">\n",
    "            \\\\[\n",
    "            \\\\text{{Ex Ante Active Risk (or Tracking Error)}} = \\\\sqrt{{w^T \\\\Sigma w}}\n",
    "            \\\\]\n",
    "        </div>\n",
    "        <p>Substituting the values:</p>\n",
    "        <div class=\"equation\">\n",
    "            \\\\[\n",
    "            w^T \\\\Sigma w = (0.0833 \\\\cdot 0.015) + (0.0833 \\\\cdot 0.012) + \\\\dots = 0.00598\n",
    "            \\\\]\n",
    "            \\\\[\n",
    "            \\\\text{{Ex Ante Active Risk}} = \\\\sqrt{{0.00598}} = 0.0773\n",
    "            \\\\]\n",
    "        </div>\n",
    "\n",
    "        <h3>Step 3: Divide \\( \\\\Sigma w \\) by the Ex Ante Active Risk</h3>\n",
    "        <p>The gradient \\( \\\\nabla f(w) \\) is calculated as:</p>\n",
    "        <div class=\"equation\">\n",
    "            \\\\[\n",
    "            \\\\nabla f(w) = \\\\frac{{\\\\Sigma w}}{{\\\\text{{Ex Ante Active Risk}}}}\n",
    "            \\\\]\n",
    "        </div>\n",
    "        <p>Substituting the values:</p>\n",
    "        <div class=\"equation\">\n",
    "            \\\\[\n",
    "            \\\\nabla f(w) = \\\\begin{{bmatrix}}\n",
    "            \\\\frac{{0.015}}{{0.077}} & \\\\frac{{0.012}}{{0.077}} & \\\\frac{{0.013}}{{0.077}} & \\\\frac{{0.0098}}{{0.077}} & \\\\frac{{0.0085}}{{0.077}} & \\\\frac{{0.0085}}{{0.077}}\n",
    "            \\\\end{{bmatrix}}\n",
    "            \\\\]\n",
    "            \\\\[\n",
    "            \\\\nabla f(w) = \\\\begin{{bmatrix}} 0.191 & 0.159 & 0.168 & 0.126 & 0.110 & 0.173 \\\\end{{bmatrix}}\n",
    "            \\\\]\n",
    "        </div>\n",
    "\n",
    "        <h3>Step 4: Step Size and Direction</h3>\n",
    "        <p>\n",
    "            The step size \\( \\\\alpha \\) is determined using a line search method, which minimizes the objective function along the calculated gradient direction. \\( \\\\alpha \\) represents the 'magnitude' of the step and is calculated iteratively such that constraints are not violated. The algorithm assumes a large \\( \\\\alpha \\) initially and incrementally decreases its value by very small steps until no constraints are violated.\n",
    "            If the maximum size \\( \\\\alpha \\)  can be is very small the optimization process terminates.\n",
    "        </p>\n",
    "        <p>The updated weights are computed as:</p>\n",
    "        <div class=\"equation\">\n",
    "            \\\\[\n",
    "            w^{{t+1}} = w^t - \\\\alpha \\\\nabla f(w)\n",
    "            \\\\]\n",
    "        </div>\n",
    "        <p>For example, in the first iteration of the 'with shorts' optimization \\( \\\\alpha = 0.4345 \\), the updated weights would be:</p>\n",
    "        <div class=\"equation\">\n",
    "            \\\\[\n",
    "            w^{{t+1}} = \\\\begin{{bmatrix}} 0.0833 & 0.0833 & \\\\dots \\\\end{{bmatrix}} - 0.4345 \\\\cdot \\\\begin{{bmatrix}} 0.191 & 0.159 & \\\\dots \\\\end{{bmatrix}}\n",
    "            \\\\]\n",
    "        </div>\n",
    "        <p>The weights are subsequently bound to zero and scaled to sum to 0.5, which results in weights for the first iteration being:</p>\n",
    "        <div class=\"equation\">\n",
    "            \\\\[\n",
    "            w^{{t+1}} = \\\\begin{{bmatrix}} 0 & 0.0502 & 0.0179 & 0.2008 & 0.2311 & 0 \\\\end{{bmatrix}}\n",
    "            \\\\]\n",
    "        </div>\n",
    "    </div>\n",
    "</html>\n",
    "\"\"\"\n",
    "\n",
    "# Write the file\n",
    "with open(\"optimization.html\", \"w\") as file:\n",
    "    file.write(html_content)\n",
    "\n",
    "print(\"Interactive HTML file 'optimization_with_barclays_style.html' created successfully!\")\n"
   ]
  },
  {
   "cell_type": "code",
   "execution_count": 50,
   "metadata": {},
   "outputs": [
    {
     "name": "stdout",
     "output_type": "stream",
     "text": [
      "3D Animated Optimization with Steeper Surface saved as 'steeper_slsqp_optimization.html'\n"
     ]
    }
   ],
   "source": [
    "import numpy as np\n",
    "import plotly.graph_objects as go\n",
    "\n",
    "# Objective Function with Adjustable Steepness\n",
    "def objective_function_with_minima(w1, w2):\n",
    "    w3 = 1 - w1 - w2\n",
    "    if w1 < 0 or w2 < 0 or w3 < 0:\n",
    "        return np.nan  # Exclude invalid points\n",
    "    return 0.8 * ((w1 - 0.5)**2 + (w2 - 0.25)**2 + (w3 - 0.25)**2) + 0.03 * (np.sin(5 * w1) + np.sin(5 * w2))\n",
    "\n",
    "# Grid for Surface Plot\n",
    "w1_range = np.linspace(0, 1, 100)\n",
    "w2_range = np.linspace(0, 1, 100)\n",
    "w1_grid, w2_grid = np.meshgrid(w1_range, w2_range)\n",
    "\n",
    "# Calculate Objective Values\n",
    "objective_values = np.zeros_like(w1_grid)\n",
    "for i in range(w1_grid.shape[0]):\n",
    "    for j in range(w1_grid.shape[1]):\n",
    "        objective_values[i, j] = objective_function_with_minima(w1_grid[i, j], w2_grid[i, j])\n",
    "objective_values = np.ma.masked_invalid(objective_values)\n",
    "\n",
    "# SLSQP Iteration Path (Simulated Steps)\n",
    "slsqp_path = [\n",
    "    (0.07, 0.73), (0.21, 0.60), (0.25, 0.55), (0.33, 0.49), (0.38, 0.40), (0.52, 0.26), (0.58, 0.18)\n",
    "]\n",
    "w1_path, w2_path = zip(*slsqp_path)\n",
    "objective_path = [objective_function_with_minima(w1, w2) for w1, w2 in slsqp_path]\n",
    "\n",
    "# Frames for Animation\n",
    "frames = []\n",
    "for i in range(1, len(slsqp_path) + 1):\n",
    "    frames.append(\n",
    "        go.Frame(\n",
    "            data=[\n",
    "                go.Surface(\n",
    "                    z=objective_values,\n",
    "                    x=w1_range,\n",
    "                    y=w2_range,\n",
    "                    colorscale=\"Plasma\",\n",
    "                    opacity=0.9,\n",
    "                    showscale=False\n",
    "                ),\n",
    "                go.Scatter3d(\n",
    "                    x=w1_path[:i],\n",
    "                    y=w2_path[:i],\n",
    "                    z=objective_path[:i],\n",
    "                    mode=\"markers+lines\",\n",
    "                    marker=dict(size=6, color=\"red\"),\n",
    "                    line=dict(color=\"red\", width=3),\n",
    "                ),\n",
    "                go.Scatter3d(\n",
    "                    x=[w1_path[-1]],\n",
    "                    y=[w2_path[-1]],\n",
    "                    z=[objective_path[-1]],\n",
    "                    mode=\"markers\",\n",
    "                    marker=dict(size=10, color=\"green\", symbol=\"diamond\"),\n",
    "                    name=\"True Minimum\"\n",
    "                )\n",
    "            ],\n",
    "            name=f\"Step {i}\"\n",
    "        )\n",
    "    )\n",
    "\n",
    "# Build Figure\n",
    "fig = go.Figure(\n",
    "    data=[\n",
    "        go.Surface(\n",
    "            z=objective_values,\n",
    "            x=w1_range,\n",
    "            y=w2_range,\n",
    "            colorscale=\"Plasma\",\n",
    "            opacity=0.9,\n",
    "            showscale=False,\n",
    "        ),\n",
    "        go.Scatter3d(\n",
    "            x=[w1_path[0]],\n",
    "            y=[w2_path[0]],\n",
    "            z=[objective_path[0]],\n",
    "            mode=\"markers\",\n",
    "            marker=dict(size=6, color=\"red\"),\n",
    "            name=\"SQLSP Iteration\"\n",
    "        ),\n",
    "    ],\n",
    "    layout=go.Layout(\n",
    "        title=\"SLSQP Optimization Graphic\",\n",
    "        width=1400,\n",
    "        height=1000,\n",
    "        scene=dict(\n",
    "            xaxis=dict(title=\"Sector 1 (Weight %)\", range=[0, 1], tickformat=\".0%\", titlefont=dict(size=10), tickfont=dict(size=10)),\n",
    "            yaxis=dict(title=\"Sector 2 (Weight %)\", range=[0, 1], tickformat=\".0%\", titlefont=dict(size=10), tickfont=dict(size=10)),\n",
    "            zaxis=dict(title=\"Variance in Risk Contribution\", range=[0, 0.4], titlefont=dict(size=10), tickfont=dict(size=10)),\n",
    "        ),\n",
    "        updatemenus=[\n",
    "            {\n",
    "                \"buttons\": [\n",
    "                    {\"args\": [None, {\"frame\": {\"duration\": 1000, \"redraw\": True}, \"fromcurrent\": True}],\n",
    "                     \"label\": \"Play Animation\", \"method\": \"animate\"},\n",
    "                    {\"args\": [[None], {\"frame\": {\"duration\": 0, \"redraw\": False}, \"mode\": \"immediate\"}],\n",
    "                     \"label\": \"Pause Animation\", \"method\": \"animate\"},\n",
    "                ],\n",
    "                \"direction\": \"left\",\n",
    "                \"pad\": {\"r\": 10, \"t\": 87},\n",
    "                \"showactive\": True,\n",
    "                \"type\": \"buttons\",\n",
    "                \"x\": 0.1,\n",
    "                \"xanchor\": \"left\",\n",
    "                \"y\": -0.2,\n",
    "                \"yanchor\": \"top\",\n",
    "            }\n",
    "        ],\n",
    "    ),\n",
    "    frames=frames\n",
    ")\n",
    "\n",
    "# Export HTML\n",
    "html_content = fig.to_html(full_html=False, include_plotlyjs=\"cdn\")\n",
    "with open(\"steeper_slsqp_optimization.html\", \"w\") as file:\n",
    "    file.write(html_content)\n",
    "\n",
    "print(\"3D Animated Optimization with Steeper Surface saved as 'steeper_slsqp_optimization.html'\")\n"
   ]
  },
  {
   "cell_type": "code",
   "execution_count": 51,
   "metadata": {},
   "outputs": [
    {
     "name": "stdout",
     "output_type": "stream",
     "text": [
      "Interactive HTML file 'optimization_with_barclays_style.html' created successfully!\n"
     ]
    },
    {
     "name": "stderr",
     "output_type": "stream",
     "text": [
      "<>:264: SyntaxWarning:\n",
      "\n",
      "invalid escape sequence '\\('\n",
      "\n",
      "<>:264: SyntaxWarning:\n",
      "\n",
      "invalid escape sequence '\\('\n",
      "\n",
      "<>:264: SyntaxWarning:\n",
      "\n",
      "invalid escape sequence '\\('\n",
      "\n",
      "<>:264: SyntaxWarning:\n",
      "\n",
      "invalid escape sequence '\\('\n",
      "\n",
      "<>:264: SyntaxWarning:\n",
      "\n",
      "invalid escape sequence '\\('\n",
      "\n",
      "<>:264: SyntaxWarning:\n",
      "\n",
      "invalid escape sequence '\\('\n",
      "\n",
      "<>:264: SyntaxWarning:\n",
      "\n",
      "invalid escape sequence '\\('\n",
      "\n",
      "<>:264: SyntaxWarning:\n",
      "\n",
      "invalid escape sequence '\\('\n",
      "\n",
      "<>:264: SyntaxWarning:\n",
      "\n",
      "invalid escape sequence '\\('\n",
      "\n",
      "<>:264: SyntaxWarning:\n",
      "\n",
      "invalid escape sequence '\\('\n",
      "\n",
      "<>:264: SyntaxWarning:\n",
      "\n",
      "invalid escape sequence '\\('\n",
      "\n",
      "<>:264: SyntaxWarning:\n",
      "\n",
      "invalid escape sequence '\\('\n",
      "\n",
      "<>:264: SyntaxWarning:\n",
      "\n",
      "invalid escape sequence '\\('\n",
      "\n",
      "<>:264: SyntaxWarning:\n",
      "\n",
      "invalid escape sequence '\\('\n",
      "\n",
      "<>:264: SyntaxWarning:\n",
      "\n",
      "invalid escape sequence '\\('\n",
      "\n",
      "<>:264: SyntaxWarning:\n",
      "\n",
      "invalid escape sequence '\\('\n",
      "\n",
      "<>:264: SyntaxWarning:\n",
      "\n",
      "invalid escape sequence '\\('\n",
      "\n",
      "<>:264: SyntaxWarning:\n",
      "\n",
      "invalid escape sequence '\\('\n",
      "\n",
      "<>:264: SyntaxWarning:\n",
      "\n",
      "invalid escape sequence '\\('\n",
      "\n",
      "<>:264: SyntaxWarning:\n",
      "\n",
      "invalid escape sequence '\\('\n",
      "\n",
      "C:\\Users\\caspe\\AppData\\Local\\Temp\\ipykernel_11560\\340002606.py:264: SyntaxWarning:\n",
      "\n",
      "invalid escape sequence '\\('\n",
      "\n",
      "C:\\Users\\caspe\\AppData\\Local\\Temp\\ipykernel_11560\\340002606.py:264: SyntaxWarning:\n",
      "\n",
      "invalid escape sequence '\\('\n",
      "\n",
      "C:\\Users\\caspe\\AppData\\Local\\Temp\\ipykernel_11560\\340002606.py:264: SyntaxWarning:\n",
      "\n",
      "invalid escape sequence '\\('\n",
      "\n",
      "C:\\Users\\caspe\\AppData\\Local\\Temp\\ipykernel_11560\\340002606.py:264: SyntaxWarning:\n",
      "\n",
      "invalid escape sequence '\\('\n",
      "\n",
      "C:\\Users\\caspe\\AppData\\Local\\Temp\\ipykernel_11560\\340002606.py:264: SyntaxWarning:\n",
      "\n",
      "invalid escape sequence '\\('\n",
      "\n",
      "C:\\Users\\caspe\\AppData\\Local\\Temp\\ipykernel_11560\\340002606.py:264: SyntaxWarning:\n",
      "\n",
      "invalid escape sequence '\\('\n",
      "\n",
      "C:\\Users\\caspe\\AppData\\Local\\Temp\\ipykernel_11560\\340002606.py:264: SyntaxWarning:\n",
      "\n",
      "invalid escape sequence '\\('\n",
      "\n",
      "C:\\Users\\caspe\\AppData\\Local\\Temp\\ipykernel_11560\\340002606.py:264: SyntaxWarning:\n",
      "\n",
      "invalid escape sequence '\\('\n",
      "\n",
      "C:\\Users\\caspe\\AppData\\Local\\Temp\\ipykernel_11560\\340002606.py:264: SyntaxWarning:\n",
      "\n",
      "invalid escape sequence '\\('\n",
      "\n",
      "C:\\Users\\caspe\\AppData\\Local\\Temp\\ipykernel_11560\\340002606.py:264: SyntaxWarning:\n",
      "\n",
      "invalid escape sequence '\\('\n",
      "\n"
     ]
    }
   ],
   "source": [
    "\n",
    "\n",
    "html_content = f\"\"\"\n",
    "<!DOCTYPE html>\n",
    "<html>\n",
    "<head>\n",
    "    <title>Optimization Visualization</title>\n",
    "    <script src=\"https://cdnjs.cloudflare.com/ajax/libs/mathjax/2.7.7/MathJax.js?config=TeX-AMS_CHTML\"></script>\n",
    "    <style>\n",
    "        body {{\n",
    "            font-family: Arial, sans-serif;\n",
    "            background-color: #f4f4f4;\n",
    "            color: #333;\n",
    "            margin: 0;\n",
    "            padding: 20px;\n",
    "        }}\n",
    "        h1, h2, h3 {{\n",
    "            color: #0078D7;\n",
    "        }}\n",
    "        .content {{\n",
    "            background: white;\n",
    "            padding: 20px;\n",
    "            border-radius: 8px;\n",
    "            box-shadow: 0px 4px 6px rgba(0,0,0,0.1);\n",
    "            margin-bottom: 20px;\n",
    "        }}\n",
    "        p, ul {{\n",
    "            line-height: 1.6;\n",
    "        }}\n",
    "        ul {{\n",
    "            padding-left: 20px;\n",
    "        }}\n",
    "        .equation {{\n",
    "            text-align: center;\n",
    "            margin: 10px 0;\n",
    "        }}\n",
    "    </style>\n",
    "</head>\n",
    "<body>\n",
    "    <div class=\"content\">\n",
    "        <h1>Mathematical Explanation of the Risk Distribution Optimization</h1>\n",
    "\n",
    "        <h2>Ex Ante Active Risk</h2>\n",
    "        <p>\n",
    "            The <strong>Ex Ante Active Risk</strong> (used interchangeably with Ex Ante Tracking Error) measures the portfolio's <strong>expected</strong>  deviation from the benchmark. It is defined as:\n",
    "        </p>\n",
    "        <div class=\"equation\">\n",
    "            \\\\[\n",
    "            \\\\text{{Ex Ante Tracking Error}} = \\\\sqrt{{(w - w_b)^T \\\\Sigma (w - w_b)}}\n",
    "            \\\\]\n",
    "        </div>\n",
    "        <p>Where:</p>\n",
    "        <ul>\n",
    "            <li><strong>\\( w \\)</strong>: Portfolio weights</li>\n",
    "            <li><strong>\\( w_b \\)</strong>: Benchmark weights</li>\n",
    "            <li><strong>\\( \\\\Sigma \\)</strong>: Covariance matrix of sector returns</li>\n",
    "            <li><strong>\\( (w - w_b) \\)</strong>: Active weights (portfolio weights minus benchmark weights)</li>\n",
    "        </ul>\n",
    "\n",
    "        <h2>Marginal Risk Contribution</h2>\n",
    "        <p>\n",
    "            The <strong>Marginal Risk Contribution</strong> represents the sensitivity of the portfolio's active risk to a small change in active weight in sector \\( i \\). It is calculated as:\n",
    "        </p>\n",
    "        <div class=\"equation\">\n",
    "            \\\\[\n",
    "            \\\\text{{Marginal Risk Contribution}}_i = \\\\frac{{\\\\partial \\\\text{{Ex Ante Active Risk}}}}{{\\\\partial w_i}} = \\\\frac{{\\\\Sigma w}}{{\\\\text{{Ex Ante Tracking Error}}}}\n",
    "            \\\\]\n",
    "        </div>\n",
    "\n",
    "        <h2>Ex Ante Active Risk Contribution</h2>\n",
    "        <p>\n",
    "            The <strong>Ex Ante Active Risk Contribution</strong> quantifies the risk contributed by each sector to the total Ex Ante active risk. It is calculated as:\n",
    "        </p>\n",
    "        <div class=\"equation\">\n",
    "            \\\\[\n",
    "            \\\\text{{Ex Ante Active Risk Contribution}}_i = \\\\frac{{\\\\partial \\\\text{{Ex Ante Active Risk}}}}{{\\\\partial w_i}} \\\\cdot w_i\n",
    "            \\\\]\n",
    "        </div>\n",
    "\n",
    "        <h2>Objective Function: Minimize Standard Deviation of Ex Ante Active Risk Contributions</h2>\n",
    "        <p>\n",
    "            The optimization minimizes the standard deviation of the Ex Ante active risk contributions:\n",
    "        </p>\n",
    "        <div class=\"equation\">\n",
    "            \\\\[\n",
    "            \\\\text{{Objective}} = \\\\text{{MIN std}}(\\\\text{{Ex Ante Active Risk Contributions}})\n",
    "            \\\\]\n",
    "        </div>\n",
    "\n",
    "        <h2>Constraints</h2>\n",
    "        <ul>\n",
    "            <li>\n",
    "                <strong>Active Share Constraint:</strong><br>\n",
    "                The portfolio must deviate from the benchmark by a specified active share target \\( k \\) - in our case we set this at 0.5:\n",
    "                <div class=\"equation\">\n",
    "                    \\\\[\n",
    "                    \\\\text{{Active Share}} = \\\\frac{{1}}{{2}} \\\\sum_{{i=1}}^N |w_i - w_{{b,i}}| = k\n",
    "                    \\\\]\n",
    "                </div>\n",
    "            </li>\n",
    "            <li>\n",
    "                <strong>No Short Constraint:</strong><br>\n",
    "                Portfolio weights cannot be negative:\n",
    "                <div class=\"equation\">\n",
    "                    \\\\[\n",
    "                    w_i \\\\geq 0, \\\\quad \\\\forall i\n",
    "                    \\\\]\n",
    "                </div>\n",
    "            </li>\n",
    "            <li>\n",
    "                <strong>Weight Sum Constraint:</strong><br>\n",
    "                The total sum of weights equals the active share target \\( k \\):\n",
    "                <div class=\"equation\">\n",
    "                    \\\\[\n",
    "                    \\\\sum_{{i=1}}^N w_i = k\n",
    "                    \\\\]\n",
    "                </div>\n",
    "            </li>\n",
    "        </ul>\n",
    "    </div>\n",
    "\n",
    "    <div class=\"content\">\n",
    "        <h2>How SLSQP Optimization Works</h2>\n",
    "        <p>\n",
    "            The Sequential Least Squares Quadratic Programming (SLSQP) algorithm solves the constrained optimization problem iteratively. \n",
    "            The key steps include:\n",
    "        </p>\n",
    "        <ul>\n",
    "            <li>\n",
    "                <strong>Gradient Calculation:</strong> The gradient of the objective function with respect to the sector weights \\( w \\) \n",
    "                is computed at each iteration.\n",
    "            </li>\n",
    "            <li>\n",
    "                <strong>Constraint Satisfaction:</strong> The algorithm adjusts the sector weights to satisfy all constraints, \n",
    "                including the active share and no short constraints.\n",
    "            </li>\n",
    "            <li>\n",
    "                <strong>Step Direction:</strong> Based on the gradient, SLSQP determines the optimal step direction that minimizes \n",
    "                the objective function while respecting the constraints.\n",
    "            </li>\n",
    "            <li>\n",
    "                <strong>Convergence:</strong> The algorithm iterates until the change in the objective function or weights is sufficiently small (think 1e-6).\n",
    "            </li>\n",
    "        </ul>\n",
    "    </div>\n",
    "    </div>\n",
    "\n",
    "    <div class=\"content\">\n",
    "        <h2>Example of SLSQP Optimization</h2>\n",
    "        <p>Below examples are the actual optimizations as of <strong>November 29th 2024</strong>. Iteration 1 represtents the starting position of the optimization and the last iteration is the final solution to the problem. You can use  the sliders to see the progression on how the optimization finds the solution</p>\n",
    "        <p>The following shows an optimization with <strong>no-short constraint</strong>:</p>\n",
    "        <p>The following shows the same optimization <strong>allowing short positions</strong>:</p>\n",
    "        <p>Another One</p>\n",
    "        {html_content}\n",
    "    </div>\n",
    "\n",
    "    <div class=\"content\">\n",
    "        <h2>Numerical Example of Gradient Calculation and Step Size</h2>\n",
    "        <p>\n",
    "            To illustrate how the gradient is calculated and the step size is determined in the SLSQP algorithm, we use the following:\n",
    "        </p>\n",
    "        <ul>\n",
    "            <li><strong>Covariance Matrix (\\( \\\\Sigma \\))</strong> (as calculated over last 3 years):</li>\n",
    "        </ul>\n",
    "        <div class=\"equation\">\n",
    "        \\\\[\n",
    "        \\\\Sigma = \n",
    "        \\\\begin{{bmatrix}}\n",
    "        0.089618 & 0.025347 & 0.011072 & 0.015178 & 0.008784 & 0.028007 \\\\\\\\\n",
    "        0.025347 & 0.030405 & 0.029316 & 0.017300 & 0.015910 & 0.029440 \\\\\\\\\n",
    "        0.011072 & 0.029316 & 0.051999 & 0.015003 & 0.019991 & 0.029051 \\\\\\\\\n",
    "        0.015178 & 0.017300 & 0.015003 & 0.033967 & 0.016893 & 0.018864 \\\\\\\\\n",
    "        0.008784 & 0.015910 & 0.019991 & 0.016893 & 0.022112 & 0.018360 \\\\\\\\\n",
    "        0.028007 & 0.029440 & 0.029051 & 0.018864 & 0.018360 & 0.036468\n",
    "        \\\\end{{bmatrix}}\n",
    "        \\\\]\n",
    "        </div>\n",
    "        <p>The <strong>initial guess weights (\\( w^0 \\))</strong> are equally allocated across sectors:</p>\n",
    "        <div class=\"equation\">\n",
    "            \\\\[\n",
    "            w^0 = \\\\begin{{bmatrix}} 0.0833 & 0.0833 & 0.0833 & 0.0833 & 0.0833 & 0.0833 \\\\end{{bmatrix}}\n",
    "            \\\\]\n",
    "        </div>\n",
    "\n",
    "        <h3>Step 1: Multiply \\( \\\\Sigma \\) by the Initial Weights \\( w^0 \\)</h3>\n",
    "        <p>We calculate \\( \\\\Sigma w^0 \\) as follows:</p>\n",
    "        <div class=\"equation\">\n",
    "            \\\\[\n",
    "            (\\\\Sigma w^0)_i = \\\\sum_{{j=1}}^6 \\\\Sigma_{{i,j}} \\\\cdot w_j\n",
    "            \\\\]\n",
    "        </div>\n",
    "        <p>Substituting values for the first row:</p>\n",
    "        <div class=\"equation\">\n",
    "            \\\\[\n",
    "            (\\\\Sigma w^0)_1 = (0.089618 \\\\cdot 0.0833) + (0.025347 \\\\cdot 0.0833) + \\\\dots = 0.015\n",
    "            \\\\]\n",
    "        </div>\n",
    "        <p>This calculation is repeated for all rows, resulting in the vector:</p>\n",
    "        <div class=\"equation\">\n",
    "            \\\\[\n",
    "            \\\\Sigma w^0 = \\\\begin{{bmatrix}} 0.0148 & 0.0123 & 0.0130 & 0.0098 & 0.0085 & 0.0133 \\\\end{{bmatrix}}\n",
    "            \\\\]\n",
    "        </div>\n",
    "\n",
    "        <h3>Step 2: Calculate the Ex Ante Active Risk</h3>\n",
    "        <p>The total Ex Ante Active Risk (used interchangeably with Ex Ante Tracking Error) is calculated as:</p>\n",
    "        <div class=\"equation\">\n",
    "            \\\\[\n",
    "            \\\\text{{Ex Ante Active Risk (or Tracking Error)}} = \\\\sqrt{{w^T \\\\Sigma w}}\n",
    "            \\\\]\n",
    "        </div>\n",
    "        <p>Substituting the values:</p>\n",
    "        <div class=\"equation\">\n",
    "            \\\\[\n",
    "            w^T \\\\Sigma w = (0.0833 \\\\cdot 0.015) + (0.0833 \\\\cdot 0.012) + \\\\dots = 0.00598\n",
    "            \\\\]\n",
    "            \\\\[\n",
    "            \\\\text{{Ex Ante Active Risk}} = \\\\sqrt{{0.00598}} = 0.0773\n",
    "            \\\\]\n",
    "        </div>\n",
    "\n",
    "        <h3>Step 3: Divide \\( \\\\Sigma w \\) by the Ex Ante Active Risk</h3>\n",
    "        <p>The gradient \\( \\\\nabla f(w) \\) is calculated as:</p>\n",
    "        <div class=\"equation\">\n",
    "            \\\\[\n",
    "            \\\\nabla f(w) = \\\\frac{{\\\\Sigma w}}{{\\\\text{{Ex Ante Active Risk}}}}\n",
    "            \\\\]\n",
    "        </div>\n",
    "        <p>Substituting the values:</p>\n",
    "        <div class=\"equation\">\n",
    "            \\\\[\n",
    "            \\\\nabla f(w) = \\\\begin{{bmatrix}}\n",
    "            \\\\frac{{0.015}}{{0.077}} & \\\\frac{{0.012}}{{0.077}} & \\\\frac{{0.013}}{{0.077}} & \\\\frac{{0.0098}}{{0.077}} & \\\\frac{{0.0085}}{{0.077}} & \\\\frac{{0.0085}}{{0.077}}\n",
    "            \\\\end{{bmatrix}}\n",
    "            \\\\]\n",
    "            \\\\[\n",
    "            \\\\nabla f(w) = \\\\begin{{bmatrix}} 0.191 & 0.159 & 0.168 & 0.126 & 0.110 & 0.173 \\\\end{{bmatrix}}\n",
    "            \\\\]\n",
    "        </div>\n",
    "\n",
    "        <h3>Step 4: Step Size and Direction</h3>\n",
    "        <p>\n",
    "            The step size \\( \\\\alpha \\) is determined using a line search method, which minimizes the objective function along the calculated gradient direction. \\( \\\\alpha \\) represents the 'magnitude' of the step and is calculated iteratively such that constraints are not violated. The algorithm assumes a large \\( \\\\alpha \\) initially and incrementally decreases its value by very small steps until no constraints are violated.\n",
    "            If the maximum size \\( \\\\alpha \\)  can be is very small the optimization process terminates.\n",
    "        </p>\n",
    "        <p>The updated weights are computed as:</p>\n",
    "        <div class=\"equation\">\n",
    "            \\\\[\n",
    "            w^{{t+1}} = w^t - \\\\alpha \\\\nabla f(w)\n",
    "            \\\\]\n",
    "        </div>\n",
    "        <p>For example, in the first iteration of the 'with shorts' optimization \\( \\\\alpha = 0.4345 \\), the updated weights would be:</p>\n",
    "        <div class=\"equation\">\n",
    "            \\\\[\n",
    "            w^{{t+1}} = \\\\begin{{bmatrix}} 0.0833 & 0.0833 & \\\\dots \\\\end{{bmatrix}} - 0.4345 \\\\cdot \\\\begin{{bmatrix}} 0.191 & 0.159 & \\\\dots \\\\end{{bmatrix}}\n",
    "            \\\\]\n",
    "        </div>\n",
    "        <p>The weights are subsequently bound to zero and scaled to sum to 0.5, which results in weights for the first iteration being:</p>\n",
    "        <div class=\"equation\">\n",
    "            \\\\[\n",
    "            w^{{t+1}} = \\\\begin{{bmatrix}} 0 & 0.0502 & 0.0179 & 0.2008 & 0.2311 & 0 \\\\end{{bmatrix}}\n",
    "            \\\\]\n",
    "        </div>\n",
    "    </div>\n",
    "</html>\n",
    "\"\"\"\n",
    "\n",
    "# Write the file\n",
    "with open(\"optimization.html\", \"w\") as file:\n",
    "    file.write(html_content)\n",
    "\n",
    "print(\"Interactive HTML file 'optimization_with_barclays_style.html' created successfully!\")\n"
   ]
  },
  {
   "cell_type": "code",
   "execution_count": 1,
   "metadata": {},
   "outputs": [
    {
     "data": {
      "application/vnd.plotly.v1+json": {
       "config": {
        "plotlyServerURL": "https://plot.ly"
       },
       "data": [
        {
         "line": {
          "color": "blue"
         },
         "mode": "lines",
         "name": "Variance of Risk Contributions",
         "type": "scatter",
         "x": [
          0,
          0.005050505050505051,
          0.010101010101010102,
          0.015151515151515152,
          0.020202020202020204,
          0.025252525252525256,
          0.030303030303030304,
          0.03535353535353536,
          0.04040404040404041,
          0.045454545454545456,
          0.05050505050505051,
          0.05555555555555556,
          0.06060606060606061,
          0.06565656565656566,
          0.07070707070707072,
          0.07575757575757576,
          0.08080808080808081,
          0.08585858585858587,
          0.09090909090909091,
          0.09595959595959597,
          0.10101010101010102,
          0.10606060606060606,
          0.11111111111111112,
          0.11616161616161617,
          0.12121212121212122,
          0.12626262626262627,
          0.13131313131313133,
          0.13636363636363638,
          0.14141414141414144,
          0.14646464646464646,
          0.15151515151515152,
          0.15656565656565657,
          0.16161616161616163,
          0.16666666666666669,
          0.17171717171717174,
          0.1767676767676768,
          0.18181818181818182,
          0.18686868686868688,
          0.19191919191919193,
          0.196969696969697,
          0.20202020202020204,
          0.2070707070707071,
          0.21212121212121213,
          0.21717171717171718,
          0.22222222222222224,
          0.2272727272727273,
          0.23232323232323235,
          0.2373737373737374,
          0.24242424242424243,
          0.2474747474747475,
          0.25252525252525254,
          0.2575757575757576,
          0.26262626262626265,
          0.2676767676767677,
          0.27272727272727276,
          0.2777777777777778,
          0.2828282828282829,
          0.2878787878787879,
          0.29292929292929293,
          0.297979797979798,
          0.30303030303030304,
          0.3080808080808081,
          0.31313131313131315,
          0.31818181818181823,
          0.32323232323232326,
          0.3282828282828283,
          0.33333333333333337,
          0.3383838383838384,
          0.3434343434343435,
          0.3484848484848485,
          0.3535353535353536,
          0.3585858585858586,
          0.36363636363636365,
          0.36868686868686873,
          0.37373737373737376,
          0.37878787878787884,
          0.38383838383838387,
          0.3888888888888889,
          0.393939393939394,
          0.398989898989899,
          0.4040404040404041,
          0.4090909090909091,
          0.4141414141414142,
          0.4191919191919192,
          0.42424242424242425,
          0.42929292929292934,
          0.43434343434343436,
          0.43939393939393945,
          0.4444444444444445,
          0.44949494949494956,
          0.4545454545454546,
          0.4595959595959596,
          0.4646464646464647,
          0.4696969696969697,
          0.4747474747474748,
          0.47979797979797983,
          0.48484848484848486,
          0.48989898989898994,
          0.494949494949495,
          0.5
         ],
         "y": [
          0.001875,
          0.0018118991653432194,
          0.001748896656704577,
          0.001686049577605587,
          0.0016234163721592968,
          0.0015610567450363897,
          0.0014990315743738918,
          0.0014374028177056332,
          0.0013762334110394069,
          0.0013155871612531237,
          0.0012555286320307764,
          0.0011961230236084038,
          0.001137436046649866,
          0.001079533790621844,
          0.0010224825870863842,
          0.0009663488683771191,
          0.0009111990221714001,
          0.0008570992425145014,
          0.0008041153778931859,
          0.0007523127769938035,
          0.000701756132814123,
          0.0006525093258278771,
          0.0006046352669259821,
          0.0005581957408782171,
          0.0005132512510734341,
          0.0004698608663047949,
          0.0004280820703688517,
          0.00038797061524334245,
          0.0003495803785982382,
          0.0003129632263778491,
          0.0002781688811686936,
          0.000245244797038549,
          0.00021423604149679873,
          0.00018518518518518504,
          0.00015813219986175853,
          0.00013311436518959177,
          0.00011016618478622411,
          0.00008931931193039054,
          0.00007060248525996186,
          0.000054041474729839694,
          0.000039659038031502516,
          0.00002747488760766473,
          0.000017505668326827673,
          0.00000976494581404322,
          0.000004263205366706117,
          0.0000010078613182825907,
          3.2766492260671155e-9,
          0.0000012507925835181477,
          0.000004748767851853083,
          0.000010492627248950548,
          0.000018474919063265586,
          0.00002868538091283482,
          0.00004111101348144439,
          0.00005573616161496725,
          0.00007254260220873265,
          0.000091509638293264,
          0.00011261419870765701,
          0.00013583094273721482,
          0.00016113236908462915,
          0.0001884889285417795,
          0.00021786913973195277,
          0.0002492397072996668,
          0.00028256564193699084,
          0.0003178103816510357,
          0.00035493591369665806,
          0.0003939028966211225,
          0.0004346707818930045,
          0.00047719793461564633,
          0.0005214417528555948,
          0.0005673587851481903,
          0.0006149048457755765,
          0.0006640351274463172,
          0.0007147043110403628,
          0.0007668666721177873,
          0.0008204761839243629,
          0.0008754866166612502,
          0.000931851632819627,
          0.0009895248784137674,
          0.001048460069977635,
          0.0011086110772203321,
          0.0011699320012646258,
          0.0012323772484200291,
          0.001295901599467608,
          0.001360460274457543,
          0.0014260089930426955,
          0.0014925040303916672,
          0.0015599022687434582,
          0.001628161244682495,
          0.0016972391922277386,
          0.0017670950818428307,
          0.0018376886554857007,
          0.0019089804578259844,
          0.0019809318637669195,
          0.0020535051024152574,
          0.0021266632776482147,
          0.0022003703854306085,
          0.002274591328038324,
          0.0023492919253460336,
          0.0024244389233379206,
          0.0024999999999999996
         ]
        },
        {
         "marker": {
          "color": "red",
          "size": 10
         },
         "mode": "markers",
         "name": "Optimal Point (w1=0.23, w2=0.27)",
         "type": "scatter",
         "x": [
          0.23232323232323235
         ],
         "y": [
          3.2766492260671155e-9
         ]
        }
       ],
       "layout": {
        "height": 500,
        "showlegend": true,
        "template": {
         "data": {
          "bar": [
           {
            "error_x": {
             "color": "#2a3f5f"
            },
            "error_y": {
             "color": "#2a3f5f"
            },
            "marker": {
             "line": {
              "color": "#E5ECF6",
              "width": 0.5
             },
             "pattern": {
              "fillmode": "overlay",
              "size": 10,
              "solidity": 0.2
             }
            },
            "type": "bar"
           }
          ],
          "barpolar": [
           {
            "marker": {
             "line": {
              "color": "#E5ECF6",
              "width": 0.5
             },
             "pattern": {
              "fillmode": "overlay",
              "size": 10,
              "solidity": 0.2
             }
            },
            "type": "barpolar"
           }
          ],
          "carpet": [
           {
            "aaxis": {
             "endlinecolor": "#2a3f5f",
             "gridcolor": "white",
             "linecolor": "white",
             "minorgridcolor": "white",
             "startlinecolor": "#2a3f5f"
            },
            "baxis": {
             "endlinecolor": "#2a3f5f",
             "gridcolor": "white",
             "linecolor": "white",
             "minorgridcolor": "white",
             "startlinecolor": "#2a3f5f"
            },
            "type": "carpet"
           }
          ],
          "choropleth": [
           {
            "colorbar": {
             "outlinewidth": 0,
             "ticks": ""
            },
            "type": "choropleth"
           }
          ],
          "contour": [
           {
            "colorbar": {
             "outlinewidth": 0,
             "ticks": ""
            },
            "colorscale": [
             [
              0,
              "#0d0887"
             ],
             [
              0.1111111111111111,
              "#46039f"
             ],
             [
              0.2222222222222222,
              "#7201a8"
             ],
             [
              0.3333333333333333,
              "#9c179e"
             ],
             [
              0.4444444444444444,
              "#bd3786"
             ],
             [
              0.5555555555555556,
              "#d8576b"
             ],
             [
              0.6666666666666666,
              "#ed7953"
             ],
             [
              0.7777777777777778,
              "#fb9f3a"
             ],
             [
              0.8888888888888888,
              "#fdca26"
             ],
             [
              1,
              "#f0f921"
             ]
            ],
            "type": "contour"
           }
          ],
          "contourcarpet": [
           {
            "colorbar": {
             "outlinewidth": 0,
             "ticks": ""
            },
            "type": "contourcarpet"
           }
          ],
          "heatmap": [
           {
            "colorbar": {
             "outlinewidth": 0,
             "ticks": ""
            },
            "colorscale": [
             [
              0,
              "#0d0887"
             ],
             [
              0.1111111111111111,
              "#46039f"
             ],
             [
              0.2222222222222222,
              "#7201a8"
             ],
             [
              0.3333333333333333,
              "#9c179e"
             ],
             [
              0.4444444444444444,
              "#bd3786"
             ],
             [
              0.5555555555555556,
              "#d8576b"
             ],
             [
              0.6666666666666666,
              "#ed7953"
             ],
             [
              0.7777777777777778,
              "#fb9f3a"
             ],
             [
              0.8888888888888888,
              "#fdca26"
             ],
             [
              1,
              "#f0f921"
             ]
            ],
            "type": "heatmap"
           }
          ],
          "heatmapgl": [
           {
            "colorbar": {
             "outlinewidth": 0,
             "ticks": ""
            },
            "colorscale": [
             [
              0,
              "#0d0887"
             ],
             [
              0.1111111111111111,
              "#46039f"
             ],
             [
              0.2222222222222222,
              "#7201a8"
             ],
             [
              0.3333333333333333,
              "#9c179e"
             ],
             [
              0.4444444444444444,
              "#bd3786"
             ],
             [
              0.5555555555555556,
              "#d8576b"
             ],
             [
              0.6666666666666666,
              "#ed7953"
             ],
             [
              0.7777777777777778,
              "#fb9f3a"
             ],
             [
              0.8888888888888888,
              "#fdca26"
             ],
             [
              1,
              "#f0f921"
             ]
            ],
            "type": "heatmapgl"
           }
          ],
          "histogram": [
           {
            "marker": {
             "pattern": {
              "fillmode": "overlay",
              "size": 10,
              "solidity": 0.2
             }
            },
            "type": "histogram"
           }
          ],
          "histogram2d": [
           {
            "colorbar": {
             "outlinewidth": 0,
             "ticks": ""
            },
            "colorscale": [
             [
              0,
              "#0d0887"
             ],
             [
              0.1111111111111111,
              "#46039f"
             ],
             [
              0.2222222222222222,
              "#7201a8"
             ],
             [
              0.3333333333333333,
              "#9c179e"
             ],
             [
              0.4444444444444444,
              "#bd3786"
             ],
             [
              0.5555555555555556,
              "#d8576b"
             ],
             [
              0.6666666666666666,
              "#ed7953"
             ],
             [
              0.7777777777777778,
              "#fb9f3a"
             ],
             [
              0.8888888888888888,
              "#fdca26"
             ],
             [
              1,
              "#f0f921"
             ]
            ],
            "type": "histogram2d"
           }
          ],
          "histogram2dcontour": [
           {
            "colorbar": {
             "outlinewidth": 0,
             "ticks": ""
            },
            "colorscale": [
             [
              0,
              "#0d0887"
             ],
             [
              0.1111111111111111,
              "#46039f"
             ],
             [
              0.2222222222222222,
              "#7201a8"
             ],
             [
              0.3333333333333333,
              "#9c179e"
             ],
             [
              0.4444444444444444,
              "#bd3786"
             ],
             [
              0.5555555555555556,
              "#d8576b"
             ],
             [
              0.6666666666666666,
              "#ed7953"
             ],
             [
              0.7777777777777778,
              "#fb9f3a"
             ],
             [
              0.8888888888888888,
              "#fdca26"
             ],
             [
              1,
              "#f0f921"
             ]
            ],
            "type": "histogram2dcontour"
           }
          ],
          "mesh3d": [
           {
            "colorbar": {
             "outlinewidth": 0,
             "ticks": ""
            },
            "type": "mesh3d"
           }
          ],
          "parcoords": [
           {
            "line": {
             "colorbar": {
              "outlinewidth": 0,
              "ticks": ""
             }
            },
            "type": "parcoords"
           }
          ],
          "pie": [
           {
            "automargin": true,
            "type": "pie"
           }
          ],
          "scatter": [
           {
            "fillpattern": {
             "fillmode": "overlay",
             "size": 10,
             "solidity": 0.2
            },
            "type": "scatter"
           }
          ],
          "scatter3d": [
           {
            "line": {
             "colorbar": {
              "outlinewidth": 0,
              "ticks": ""
             }
            },
            "marker": {
             "colorbar": {
              "outlinewidth": 0,
              "ticks": ""
             }
            },
            "type": "scatter3d"
           }
          ],
          "scattercarpet": [
           {
            "marker": {
             "colorbar": {
              "outlinewidth": 0,
              "ticks": ""
             }
            },
            "type": "scattercarpet"
           }
          ],
          "scattergeo": [
           {
            "marker": {
             "colorbar": {
              "outlinewidth": 0,
              "ticks": ""
             }
            },
            "type": "scattergeo"
           }
          ],
          "scattergl": [
           {
            "marker": {
             "colorbar": {
              "outlinewidth": 0,
              "ticks": ""
             }
            },
            "type": "scattergl"
           }
          ],
          "scattermapbox": [
           {
            "marker": {
             "colorbar": {
              "outlinewidth": 0,
              "ticks": ""
             }
            },
            "type": "scattermapbox"
           }
          ],
          "scatterpolar": [
           {
            "marker": {
             "colorbar": {
              "outlinewidth": 0,
              "ticks": ""
             }
            },
            "type": "scatterpolar"
           }
          ],
          "scatterpolargl": [
           {
            "marker": {
             "colorbar": {
              "outlinewidth": 0,
              "ticks": ""
             }
            },
            "type": "scatterpolargl"
           }
          ],
          "scatterternary": [
           {
            "marker": {
             "colorbar": {
              "outlinewidth": 0,
              "ticks": ""
             }
            },
            "type": "scatterternary"
           }
          ],
          "surface": [
           {
            "colorbar": {
             "outlinewidth": 0,
             "ticks": ""
            },
            "colorscale": [
             [
              0,
              "#0d0887"
             ],
             [
              0.1111111111111111,
              "#46039f"
             ],
             [
              0.2222222222222222,
              "#7201a8"
             ],
             [
              0.3333333333333333,
              "#9c179e"
             ],
             [
              0.4444444444444444,
              "#bd3786"
             ],
             [
              0.5555555555555556,
              "#d8576b"
             ],
             [
              0.6666666666666666,
              "#ed7953"
             ],
             [
              0.7777777777777778,
              "#fb9f3a"
             ],
             [
              0.8888888888888888,
              "#fdca26"
             ],
             [
              1,
              "#f0f921"
             ]
            ],
            "type": "surface"
           }
          ],
          "table": [
           {
            "cells": {
             "fill": {
              "color": "#EBF0F8"
             },
             "line": {
              "color": "white"
             }
            },
            "header": {
             "fill": {
              "color": "#C8D4E3"
             },
             "line": {
              "color": "white"
             }
            },
            "type": "table"
           }
          ]
         },
         "layout": {
          "annotationdefaults": {
           "arrowcolor": "#2a3f5f",
           "arrowhead": 0,
           "arrowwidth": 1
          },
          "autotypenumbers": "strict",
          "coloraxis": {
           "colorbar": {
            "outlinewidth": 0,
            "ticks": ""
           }
          },
          "colorscale": {
           "diverging": [
            [
             0,
             "#8e0152"
            ],
            [
             0.1,
             "#c51b7d"
            ],
            [
             0.2,
             "#de77ae"
            ],
            [
             0.3,
             "#f1b6da"
            ],
            [
             0.4,
             "#fde0ef"
            ],
            [
             0.5,
             "#f7f7f7"
            ],
            [
             0.6,
             "#e6f5d0"
            ],
            [
             0.7,
             "#b8e186"
            ],
            [
             0.8,
             "#7fbc41"
            ],
            [
             0.9,
             "#4d9221"
            ],
            [
             1,
             "#276419"
            ]
           ],
           "sequential": [
            [
             0,
             "#0d0887"
            ],
            [
             0.1111111111111111,
             "#46039f"
            ],
            [
             0.2222222222222222,
             "#7201a8"
            ],
            [
             0.3333333333333333,
             "#9c179e"
            ],
            [
             0.4444444444444444,
             "#bd3786"
            ],
            [
             0.5555555555555556,
             "#d8576b"
            ],
            [
             0.6666666666666666,
             "#ed7953"
            ],
            [
             0.7777777777777778,
             "#fb9f3a"
            ],
            [
             0.8888888888888888,
             "#fdca26"
            ],
            [
             1,
             "#f0f921"
            ]
           ],
           "sequentialminus": [
            [
             0,
             "#0d0887"
            ],
            [
             0.1111111111111111,
             "#46039f"
            ],
            [
             0.2222222222222222,
             "#7201a8"
            ],
            [
             0.3333333333333333,
             "#9c179e"
            ],
            [
             0.4444444444444444,
             "#bd3786"
            ],
            [
             0.5555555555555556,
             "#d8576b"
            ],
            [
             0.6666666666666666,
             "#ed7953"
            ],
            [
             0.7777777777777778,
             "#fb9f3a"
            ],
            [
             0.8888888888888888,
             "#fdca26"
            ],
            [
             1,
             "#f0f921"
            ]
           ]
          },
          "colorway": [
           "#636efa",
           "#EF553B",
           "#00cc96",
           "#ab63fa",
           "#FFA15A",
           "#19d3f3",
           "#FF6692",
           "#B6E880",
           "#FF97FF",
           "#FECB52"
          ],
          "font": {
           "color": "#2a3f5f"
          },
          "geo": {
           "bgcolor": "white",
           "lakecolor": "white",
           "landcolor": "#E5ECF6",
           "showlakes": true,
           "showland": true,
           "subunitcolor": "white"
          },
          "hoverlabel": {
           "align": "left"
          },
          "hovermode": "closest",
          "mapbox": {
           "style": "light"
          },
          "paper_bgcolor": "white",
          "plot_bgcolor": "#E5ECF6",
          "polar": {
           "angularaxis": {
            "gridcolor": "white",
            "linecolor": "white",
            "ticks": ""
           },
           "bgcolor": "#E5ECF6",
           "radialaxis": {
            "gridcolor": "white",
            "linecolor": "white",
            "ticks": ""
           }
          },
          "scene": {
           "xaxis": {
            "backgroundcolor": "#E5ECF6",
            "gridcolor": "white",
            "gridwidth": 2,
            "linecolor": "white",
            "showbackground": true,
            "ticks": "",
            "zerolinecolor": "white"
           },
           "yaxis": {
            "backgroundcolor": "#E5ECF6",
            "gridcolor": "white",
            "gridwidth": 2,
            "linecolor": "white",
            "showbackground": true,
            "ticks": "",
            "zerolinecolor": "white"
           },
           "zaxis": {
            "backgroundcolor": "#E5ECF6",
            "gridcolor": "white",
            "gridwidth": 2,
            "linecolor": "white",
            "showbackground": true,
            "ticks": "",
            "zerolinecolor": "white"
           }
          },
          "shapedefaults": {
           "line": {
            "color": "#2a3f5f"
           }
          },
          "ternary": {
           "aaxis": {
            "gridcolor": "white",
            "linecolor": "white",
            "ticks": ""
           },
           "baxis": {
            "gridcolor": "white",
            "linecolor": "white",
            "ticks": ""
           },
           "bgcolor": "#E5ECF6",
           "caxis": {
            "gridcolor": "white",
            "linecolor": "white",
            "ticks": ""
           }
          },
          "title": {
           "x": 0.05
          },
          "xaxis": {
           "automargin": true,
           "gridcolor": "white",
           "linecolor": "white",
           "ticks": "",
           "title": {
            "standoff": 15
           },
           "zerolinecolor": "white",
           "zerolinewidth": 2
          },
          "yaxis": {
           "automargin": true,
           "gridcolor": "white",
           "linecolor": "white",
           "ticks": "",
           "title": {
            "standoff": 15
           },
           "zerolinecolor": "white",
           "zerolinewidth": 2
          }
         }
        },
        "title": {
         "text": "Optimization Surface for Equal Risk Contribution (Two Sectors)"
        },
        "width": 800,
        "xaxis": {
         "title": {
          "text": "Weight 1 (w1)"
         }
        },
        "yaxis": {
         "title": {
          "text": "Variance of Risk Contributions"
         }
        }
       }
      }
     },
     "metadata": {},
     "output_type": "display_data"
    }
   ],
   "source": [
    "import numpy as np\n",
    "import plotly.graph_objects as go\n",
    "\n",
    "# Covariance matrix for two sectors (example values)\n",
    "cov_matrix = np.array([[0.04, 0.02], [0.02, 0.03]])\n",
    "\n",
    "# Function to calculate variance of risk contributions\n",
    "def variance_of_risk_contributions(w1, cov_matrix):\n",
    "    w2 = 0.5 - w1  # Since w1 + w2 = 0.5\n",
    "    weights = np.array([w1, w2])\n",
    "    total_risk = np.sqrt(weights @ cov_matrix @ weights)\n",
    "    marginal_risk = cov_matrix @ weights / total_risk\n",
    "    risk_contributions = weights * marginal_risk\n",
    "    return np.var(risk_contributions)\n",
    "\n",
    "# Generate weight values\n",
    "w1_values = np.linspace(0, 0.5, 100)\n",
    "variance_values = [variance_of_risk_contributions(w1, cov_matrix) for w1 in w1_values]\n",
    "\n",
    "# Find the minimum variance\n",
    "min_variance_index = np.argmin(variance_values)\n",
    "optimal_w1 = w1_values[min_variance_index]\n",
    "optimal_w2 = 0.5 - optimal_w1\n",
    "\n",
    "# Plot optimization surface\n",
    "fig = go.Figure()\n",
    "\n",
    "fig.add_trace(go.Scatter(\n",
    "    x=w1_values,\n",
    "    y=variance_values,\n",
    "    mode=\"lines\",\n",
    "    name=\"Variance of Risk Contributions\",\n",
    "    line=dict(color=\"blue\")\n",
    "))\n",
    "\n",
    "# Highlight the optimal point\n",
    "fig.add_trace(go.Scatter(\n",
    "    x=[optimal_w1],\n",
    "    y=[variance_values[min_variance_index]],\n",
    "    mode=\"markers\",\n",
    "    marker=dict(size=10, color=\"red\"),\n",
    "    name=f\"Optimal Point (w1={optimal_w1:.2f}, w2={optimal_w2:.2f})\"\n",
    "))\n",
    "\n",
    "# Layout adjustments\n",
    "fig.update_layout(\n",
    "    title=\"Optimization Surface for Equal Risk Contribution (Two Sectors)\",\n",
    "    xaxis_title=\"Weight 1 (w1)\",\n",
    "    yaxis_title=\"Variance of Risk Contributions\",\n",
    "    width=800,\n",
    "    height=500,\n",
    "    showlegend=True\n",
    ")\n",
    "\n",
    "fig.show()\n"
   ]
  },
  {
   "cell_type": "code",
   "execution_count": null,
   "metadata": {},
   "outputs": [],
   "source": []
  },
  {
   "cell_type": "code",
   "execution_count": 2,
   "metadata": {},
   "outputs": [],
   "source": [
    "html_content = fig.to_html(full_html=False, include_plotlyjs=\"cdn\")\n",
    "with open(\"simple_surface.html\", \"w\") as file:\n",
    "    file.write(html_content)"
   ]
  }
 ],
 "metadata": {
  "kernelspec": {
   "display_name": "dashboard",
   "language": "python",
   "name": "python3"
  },
  "language_info": {
   "codemirror_mode": {
    "name": "ipython",
    "version": 3
   },
   "file_extension": ".py",
   "mimetype": "text/x-python",
   "name": "python",
   "nbconvert_exporter": "python",
   "pygments_lexer": "ipython3",
   "version": "3.12.4"
  }
 },
 "nbformat": 4,
 "nbformat_minor": 2
}
